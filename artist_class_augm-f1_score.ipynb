{
 "cells": [
  {
   "cell_type": "markdown",
   "id": "fef86c1f",
   "metadata": {},
   "source": [
    "### Классификация изображений художников разного стиля с использованием `PyTorch`"
   ]
  },
  {
   "cell_type": "markdown",
   "id": "42440bce",
   "metadata": {},
   "source": [
    "Импорт библиотек:"
   ]
  },
  {
   "cell_type": "code",
   "execution_count": 1,
   "id": "177de143",
   "metadata": {},
   "outputs": [],
   "source": [
    "import torch\n",
    "import torchvision\n",
    "import torchvision.transforms as transforms\n",
    "import torch.nn as nn\n",
    "import torch.optim as optim\n",
    "#import os\n",
    "import torch.nn.functional as F\n",
    "import matplotlib.pyplot as plt\n",
    "from collections import defaultdict\n",
    "from sklearn.metrics import precision_recall_fscore_support\n",
    "\n",
    "device = torch.device(\"cuda\" if torch.cuda.is_available() else \"cpu\")"
   ]
  },
  {
   "cell_type": "markdown",
   "id": "2b41b5f2",
   "metadata": {},
   "source": [
    "Определяем трансформацию изображений: отдельно для тренировочного набора с аугментацией данных и отдельно для тестового и валидационного."
   ]
  },
  {
   "cell_type": "code",
   "execution_count": 2,
   "id": "decefff5",
   "metadata": {},
   "outputs": [],
   "source": [
    "# define default transormation\n",
    "\n",
    "val_transform = transforms.Compose([\n",
    "    transforms.Resize(64),\n",
    "    transforms.CenterCrop(64),\n",
    "    transforms.ToTensor(),\n",
    "    transforms.Normalize(mean=[0.485, 0.456, 0.406], std=[0.229, 0.224, 0.225])\n",
    "])\n",
    "\n",
    "# randop crop\n",
    "train_transform = transforms.Compose([\n",
    "    transforms.RandomHorizontalFlip(),\n",
    "    transforms.RandomVerticalFlip(),\n",
    "#     transforms.ColorJitter(brightness=0.4, contrast=0.4, saturation=0.4),\n",
    "    transforms.RandomGrayscale(p=0.2),\n",
    "    transforms.RandomRotation(30),\n",
    "    #transforms.GaussianNoise(0.1),\n",
    "\n",
    "    transforms.Resize(64),\n",
    "    transforms.CenterCrop(64),\n",
    "    transforms.ToTensor(),\n",
    "    transforms.Normalize(mean=[0.485, 0.456, 0.406], std=[0.229, 0.224, 0.225])\n",
    "    #transforms.Normalize()\n",
    "    #transforms.Normalize(mean, std)\n",
    "\n",
    "])"
   ]
  },
  {
   "cell_type": "markdown",
   "id": "fc80c3a1",
   "metadata": {},
   "source": [
    "Загрузка изображений, которые хранятся в директории `images` "
   ]
  },
  {
   "cell_type": "code",
   "execution_count": 3,
   "id": "c049dad3",
   "metadata": {},
   "outputs": [],
   "source": [
    "image_dataset = torchvision.datasets.ImageFolder('images', transform=val_transform)"
   ]
  },
  {
   "cell_type": "markdown",
   "id": "fc13bbe5",
   "metadata": {},
   "source": [
    "Разбиваем изображения на трейновый, валидационный и тестовый набор (70%, 20%, 10%) без стратификации. Оказалось, что это работает хуже чем со стратификацией с учетом размеров классов "
   ]
  },
  {
   "cell_type": "code",
   "execution_count": 4,
   "id": "2af615ec",
   "metadata": {},
   "outputs": [],
   "source": [
    "# train_size = int(0.7 * len(image_dataset))\n",
    "# val_size = int(0.2 * len(image_dataset))\n",
    "# test_size = len(image_dataset) - train_size - val_size\n",
    "# train_dataset, val_dataset, test_dataset = torch.utils.data.random_split(image_dataset, [train_size, val_size, test_size])\n",
    "# # realize data augmentation for train set\n",
    "# train_dataset.dataset.transform = train_transform\n"
   ]
  },
  {
   "cell_type": "code",
   "execution_count": 5,
   "id": "bca2437c",
   "metadata": {},
   "outputs": [],
   "source": [
    "# print(\"Train set size: {:}, validation set size: {:}, test set size: {:}\".format(train_size, val_size, test_size))\n",
    "\n",
    "# print(train_size)\n",
    "# print(val_size)\n",
    "# print(test_size)\n",
    "# print(train_dataset.dataset)"
   ]
  },
  {
   "cell_type": "code",
   "execution_count": 6,
   "id": "8a1cb3cb",
   "metadata": {},
   "outputs": [],
   "source": [
    "# загрузка данных соответствующего размера\n",
    "# train_dataloader = torch.utils.data.DataLoader(train_dataset, batch_size=32, shuffle=True)\n",
    "# val_dataloader = torch.utils.data.DataLoader(val_dataset, batch_size=32, shuffle=False)\n",
    "# test_dataloader = torch.utils.data.DataLoader(test_dataset, batch_size=32, shuffle=False)"
   ]
  },
  {
   "cell_type": "markdown",
   "id": "5c34fcf9",
   "metadata": {},
   "source": [
    "Разбиваем изображения на трейновый, валидационный и тестовый набор с учетом размеров классов."
   ]
  },
  {
   "cell_type": "code",
   "execution_count": 7,
   "id": "6eee5ed2",
   "metadata": {},
   "outputs": [],
   "source": [
    "from sklearn.model_selection import StratifiedShuffleSplit\n",
    "\n",
    "# Get the labels for each image\n",
    "labels = [image_dataset[i][1] for i in range(len(image_dataset))]\n",
    "\n",
    "# Create the stratified shuffle split object\n",
    "split = StratifiedShuffleSplit(n_splits=1, test_size=0.3)\n",
    "\n",
    "# Split the indices of the images into train and validation-test sets\n",
    "for train_index, test_valid_index in split.split(range(len(image_dataset)), labels):\n",
    "    train_dataset = torch.utils.data.Subset(image_dataset, train_index)\n",
    "    test_valid_dataset = torch.utils.data.Subset(image_dataset, test_valid_index)\n",
    "\n",
    "# Create a second stratified shuffle split object for the train set\n",
    "split = StratifiedShuffleSplit(n_splits=1, test_size=0.4)\n",
    "\n",
    "# Split the indices of the train set into train and validation sets\n",
    "for val_index, test_index in split.split(range(len(test_valid_dataset)), [test_valid_dataset[i][1] for i in range(len(test_valid_dataset))]):\n",
    "    test_dataset = torch.utils.data.Subset(test_valid_dataset, test_index)\n",
    "    val_dataset = torch.utils.data.Subset(test_valid_dataset, val_index)\n"
   ]
  },
  {
   "cell_type": "code",
   "execution_count": null,
   "id": "dcf6da87",
   "metadata": {},
   "outputs": [],
   "source": []
  },
  {
   "cell_type": "code",
   "execution_count": 8,
   "id": "ff10e7e8",
   "metadata": {},
   "outputs": [
    {
     "name": "stdout",
     "output_type": "stream",
     "text": [
      "Dataset ImageFolder\n",
      "    Number of datapoints: 1422\n",
      "    Root location: images\n",
      "    StandardTransform\n",
      "Transform: Compose(\n",
      "               Resize(size=64, interpolation=bilinear, max_size=None, antialias=None)\n",
      "               CenterCrop(size=(64, 64))\n",
      "               ToTensor()\n",
      "               Normalize(mean=[0.485, 0.456, 0.406], std=[0.229, 0.224, 0.225])\n",
      "           )\n"
     ]
    }
   ],
   "source": [
    "# загрузка данных соответствующего размера\n",
    "train_dataset.dataset.transform = train_transform\n",
    "print(train_dataset.dataset)\n",
    "batch_size = 16\n",
    "train_dataloader = torch.utils.data.DataLoader(train_dataset, batch_size=batch_size, shuffle=True)\n",
    "val_dataloader = torch.utils.data.DataLoader(val_dataset, batch_size=batch_size, shuffle=False)\n",
    "test_dataloader = torch.utils.data.DataLoader(test_dataset, batch_size=batch_size, shuffle=False)"
   ]
  },
  {
   "cell_type": "code",
   "execution_count": null,
   "id": "c2199b33",
   "metadata": {},
   "outputs": [],
   "source": []
  },
  {
   "cell_type": "code",
   "execution_count": 9,
   "id": "c28740f8",
   "metadata": {
    "scrolled": true
   },
   "outputs": [
    {
     "name": "stdout",
     "output_type": "stream",
     "text": [
      "Train set size: 995, validation set size: 256, test set size: 171\n"
     ]
    }
   ],
   "source": [
    "print(\"Train set size: {:}, validation set size: {:}, test set size: {:}\".format(train_index.size, val_index.size, test_index.size))"
   ]
  },
  {
   "cell_type": "markdown",
   "id": "69099240",
   "metadata": {},
   "source": [
    "Проверим результат разбиения по классам"
   ]
  },
  {
   "cell_type": "code",
   "execution_count": 10,
   "id": "adc846d2",
   "metadata": {},
   "outputs": [
    {
     "name": "stdout",
     "output_type": "stream",
     "text": [
      "{'Train set': defaultdict(<class 'int'>, {2: 168, 1: 255, 6: 52, 5: 82, 7: 97, 4: 153, 3: 142, 0: 46}), 'Validation set': defaultdict(<class 'int'>, {4: 39, 7: 25, 3: 37, 2: 43, 1: 66, 6: 14, 0: 11, 5: 21}), 'Test set': defaultdict(<class 'int'>, {3: 24, 1: 44, 4: 26, 2: 29, 6: 9, 7: 17, 0: 8, 5: 14})}\n"
     ]
    }
   ],
   "source": [
    "def count_classes(dataloader):\n",
    "    labels_count = defaultdict(int)\n",
    "    for i, data in enumerate(dataloader, 0):\n",
    "        inputs, labels = data\n",
    "        for label in labels:\n",
    "            labels_count[label.item()] += 1\n",
    "    return(labels_count)\n",
    "\n",
    "data = {'Train set': count_classes(train_dataloader),\n",
    "        'Validation set': count_classes(val_dataloader),\n",
    "        'Test set': count_classes(test_dataloader)}\n",
    "print(data)"
   ]
  },
  {
   "cell_type": "code",
   "execution_count": 11,
   "id": "1ff5658b",
   "metadata": {},
   "outputs": [
    {
     "name": "stdout",
     "output_type": "stream",
     "text": [
      "Train set\n",
      "[2, 1, 6, 5, 7, 4, 3, 0]\n",
      "[168, 255, 52, 82, 97, 153, 142, 46]\n",
      "Validation set\n",
      "[4, 7, 3, 2, 1, 6, 0, 5]\n",
      "[39, 25, 37, 43, 66, 14, 11, 21]\n",
      "Test set\n",
      "[3, 1, 4, 2, 6, 7, 0, 5]\n",
      "[24, 44, 26, 29, 9, 17, 8, 14]\n"
     ]
    }
   ],
   "source": [
    "for i, group in enumerate(data.keys()):\n",
    "    print(group)\n",
    "    keys = list(data[group].keys())\n",
    "    print(keys)\n",
    "    print(list(data[group].values()))"
   ]
  },
  {
   "cell_type": "code",
   "execution_count": 12,
   "id": "e4426dbe",
   "metadata": {},
   "outputs": [
    {
     "data": {
      "image/png": "[encoded data removed]",
      "text/plain": [
       "<Figure size 640x480 with 1 Axes>"
      ]
     },
     "metadata": {},
     "output_type": "display_data"
    }
   ],
   "source": [
    "colors = ['#fc8d59', '#ffffbf', '#91cf60']\n",
    "\n",
    "for i, group in enumerate(data.keys()):\n",
    "    keys = list(data[group].keys())\n",
    "    values = list(data[group].values())\n",
    "    plt.bar(keys, values, edgecolor='black', color=colors[i], label=group)\n",
    "\n",
    "plt.xlabel('Classes of images')\n",
    "plt.ylabel('Count')\n",
    "plt.title('Splitting to sets')\n",
    "plt.legend()\n",
    "plt.show()"
   ]
  },
  {
   "cell_type": "markdown",
   "id": "cfab5345",
   "metadata": {},
   "source": [
    "Определяем модель для классификации изображений: resnet с 18 слоями, задаем на полносвязном уровне количество наших классов "
   ]
  },
  {
   "cell_type": "code",
   "execution_count": 13,
   "id": "aff2c253",
   "metadata": {},
   "outputs": [
    {
     "name": "stderr",
     "output_type": "stream",
     "text": [
      "C:\\Users\\elena\\AppData\\Local\\Programs\\Python\\Python310\\lib\\site-packages\\torchvision\\models\\_utils.py:223: UserWarning: Arguments other than a weight enum or `None` for 'weights' are deprecated since 0.13 and may be removed in the future. The current behavior is equivalent to passing `weights=ResNet18_Weights.IMAGENET1K_V1`. You can also use `weights=ResNet18_Weights.DEFAULT` to get the most up-to-date weights.\n",
      "  warnings.warn(msg)\n"
     ]
    }
   ],
   "source": [
    "model = torchvision.models.resnet18(weights=True)\n",
    "#model = torchvision.models.resnet50(weights=True)\n",
    "\n",
    "model.fc = nn.Linear(512, len(image_dataset.classes))\n",
    "# model.fc.register_forward_hook(lambda m, inp, out: F.dropout(out, p=0.2, training=m.training))\n",
    "#model.fc.register_forward_hook(lambda m, inp, out: nn.Softmax(out))\n",
    "#model.fc = nn.Sequential(\n",
    " #   nn.Linear(512, len(image_dataset.classes)),\n",
    "  #  nn.Softmax())\n",
    "#model.fc.register_forward_hook(lambda m, inp, out: F.dropout(out, p=0.2, training=m.training))\n"
   ]
  },
  {
   "cell_type": "code",
   "execution_count": 14,
   "id": "4fb7fb86",
   "metadata": {},
   "outputs": [],
   "source": [
    "# from torchvision.models.feature_extraction import get_graph_node_names\n",
    "# from torchvision.models import resnet50\n",
    "\n",
    "# train_nodes, eval_nodes = get_graph_node_names(resnet50())\n",
    "# print(train_nodes)\n",
    "# print(eval_nodes)"
   ]
  },
  {
   "cell_type": "markdown",
   "id": "27f78fbc",
   "metadata": {},
   "source": [
    "Выбираю функцию ошибки CrossEntropyLoss, поскольку у нас задача классификации нескольких классов. Стохастический градиентный спуск показал самый лучший результат в этой задаче\n"
   ]
  },
  {
   "cell_type": "code",
   "execution_count": 15,
   "id": "b010086f",
   "metadata": {},
   "outputs": [],
   "source": [
    "criterion = nn.CrossEntropyLoss()\n",
    "optimizer = optim.SGD(model.parameters(), lr=0.001, momentum=0.9)\n",
    "# optimizer = optim.Adam(model.parameters())\n",
    "# optimizer = optim.RMSprop(model.parameters()) # this optimizer functioned really bad"
   ]
  },
  {
   "cell_type": "code",
   "execution_count": 16,
   "id": "2828a9a5",
   "metadata": {},
   "outputs": [],
   "source": [
    "train_losses = []\n",
    "val_losses = []\n",
    "train_accuracies = []\n",
    "val_accuracies = []\n",
    "f1_scores = []"
   ]
  },
  {
   "cell_type": "code",
   "execution_count": 17,
   "id": "efce1ee7",
   "metadata": {},
   "outputs": [
    {
     "name": "stdout",
     "output_type": "stream",
     "text": [
      "<torch.utils.data.dataset.Subset object at 0x0000018A823E0700>\n"
     ]
    }
   ],
   "source": [
    "print(val_dataloader.dataset)"
   ]
  },
  {
   "cell_type": "markdown",
   "id": "5e2d1918",
   "metadata": {},
   "source": [
    "Задаем функцию для проверки валидационного и тестого сета, чтобы не дублировать код"
   ]
  },
  {
   "cell_type": "code",
   "execution_count": 18,
   "id": "02184cd9",
   "metadata": {},
   "outputs": [],
   "source": [
    "# import torch\n",
    "# import numpy as np\n",
    "# from sklearn.metrics import precision_recall_fscore_support\n",
    "\n",
    "def validate(curr_model, dataloader, criterion):\n",
    "    with torch.no_grad():\n",
    "        running_loss = 0.0\n",
    "        total = 0\n",
    "        confusion_matrix = torch.zeros(len(image_dataset.classes), len(image_dataset.classes), dtype=torch.int64)\n",
    "        true_labels = []\n",
    "        pred_labels = []\n",
    "\n",
    "        for i, data in enumerate(dataloader, 0):\n",
    "            inputs, labels = data\n",
    "            inputs, labels = inputs.to(device), labels.to(device)\n",
    "            outputs = curr_model(inputs)\n",
    "            loss = criterion(outputs, labels)\n",
    "            running_loss += loss.item()\n",
    "            _, preds = torch.max(outputs, dim=1)\n",
    "            total += labels.size(0)\n",
    "\n",
    "            true_labels.extend(labels.tolist())\n",
    "            pred_labels.extend(preds.tolist())\n",
    "\n",
    "            for t, p in zip(labels, preds):\n",
    "                confusion_matrix[t, p] += 1\n",
    "\n",
    "        val_loss = running_loss / len(dataloader)\n",
    "        precision, recall, f1_score, _ = precision_recall_fscore_support(true_labels, pred_labels, average='weighted', zero_division=0)\n",
    "        precision_macro, recall_macro, f1_score_macro, _ = precision_recall_fscore_support(true_labels, pred_labels, average='macro', zero_division=0)\n",
    "        print(f1_score)\n",
    "#         results = {\n",
    "#             \"Loss\": val_loss,\n",
    "#             \"Confusion Matrix\": confusion_matrix,\n",
    "#             \"Precision\": precision,\n",
    "#             \"Recall\": recall,\n",
    "#             \"F1-Score\": f1_score\n",
    "#             \"Macro Precision\": precision_macro,\n",
    "#             \"Macro Recall\": recall_macro,\n",
    "#             \"Macro F1-Score\": f1_score_macro,\n",
    "#         }\n",
    "    return val_loss, precision, f1_score\n",
    "\n"
   ]
  },
  {
   "cell_type": "code",
   "execution_count": 19,
   "id": "2f06e5b6",
   "metadata": {},
   "outputs": [],
   "source": [
    "# f1_score"
   ]
  },
  {
   "cell_type": "code",
   "execution_count": null,
   "id": "39315025",
   "metadata": {},
   "outputs": [
    {
     "name": "stdout",
     "output_type": "stream",
     "text": [
      "0.36568789564825366\n",
      "Epoch 1/50 - Train Loss: 1.8221 - Train Accuracy: 36.28% - Val Loss: 1.6527 - Val Accuracy: 0.39%, f1_score 0.36568789564825366\n",
      "0.3993249225715323\n",
      "Epoch 2/50 - Train Loss: 1.5146 - Train Accuracy: 47.84% - Val Loss: 1.7557 - Val Accuracy: 0.44%, f1_score 0.3993249225715323\n",
      "0.41454912245837167\n",
      "Epoch 3/50 - Train Loss: 1.3979 - Train Accuracy: 52.46% - Val Loss: 1.6168 - Val Accuracy: 0.47%, f1_score 0.41454912245837167\n",
      "0.5062648104939369\n",
      "Epoch 4/50 - Train Loss: 1.2876 - Train Accuracy: 55.48% - Val Loss: 1.5101 - Val Accuracy: 0.55%, f1_score 0.5062648104939369\n",
      "0.48661894721477056\n",
      "Epoch 5/50 - Train Loss: 1.1757 - Train Accuracy: 61.11% - Val Loss: 1.5417 - Val Accuracy: 0.50%, f1_score 0.48661894721477056\n",
      "0.5037368424461177\n",
      "Epoch 6/50 - Train Loss: 1.1196 - Train Accuracy: 60.60% - Val Loss: 1.5240 - Val Accuracy: 0.51%, f1_score 0.5037368424461177\n",
      "0.5369704444990195\n",
      "Epoch 7/50 - Train Loss: 1.0119 - Train Accuracy: 64.52% - Val Loss: 1.4245 - Val Accuracy: 0.55%, f1_score 0.5369704444990195\n",
      "0.5059310393939912\n",
      "Epoch 8/50 - Train Loss: 0.8674 - Train Accuracy: 69.65% - Val Loss: 1.5164 - Val Accuracy: 0.52%, f1_score 0.5059310393939912\n",
      "0.5071896381580976\n",
      "Epoch 9/50 - Train Loss: 0.8490 - Train Accuracy: 70.85% - Val Loss: 1.4307 - Val Accuracy: 0.51%, f1_score 0.5071896381580976\n",
      "0.5051752301787318\n",
      "Epoch 10/50 - Train Loss: 0.8777 - Train Accuracy: 69.85% - Val Loss: 1.4989 - Val Accuracy: 0.50%, f1_score 0.5051752301787318\n",
      "0.5349946126590597\n",
      "Epoch 11/50 - Train Loss: 0.8032 - Train Accuracy: 73.37% - Val Loss: 1.4566 - Val Accuracy: 0.54%, f1_score 0.5349946126590597\n",
      "0.5223765289205462\n",
      "Epoch 12/50 - Train Loss: 0.7588 - Train Accuracy: 73.37% - Val Loss: 1.5603 - Val Accuracy: 0.53%, f1_score 0.5223765289205462\n",
      "0.5656603724826634\n",
      "Epoch 13/50 - Train Loss: 0.7715 - Train Accuracy: 73.67% - Val Loss: 1.4035 - Val Accuracy: 0.57%, f1_score 0.5656603724826634\n",
      "0.5677698646313973\n",
      "Epoch 14/50 - Train Loss: 0.7111 - Train Accuracy: 76.68% - Val Loss: 1.3104 - Val Accuracy: 0.58%, f1_score 0.5677698646313973\n",
      "0.5523030711702108\n",
      "Epoch 15/50 - Train Loss: 0.6524 - Train Accuracy: 77.19% - Val Loss: 1.4686 - Val Accuracy: 0.57%, f1_score 0.5523030711702108\n",
      "0.5640601820881416\n",
      "Epoch 16/50 - Train Loss: 0.6075 - Train Accuracy: 78.69% - Val Loss: 1.4230 - Val Accuracy: 0.57%, f1_score 0.5640601820881416\n",
      "0.5204273910012207\n",
      "Epoch 17/50 - Train Loss: 0.6671 - Train Accuracy: 77.49% - Val Loss: 1.4666 - Val Accuracy: 0.53%, f1_score 0.5204273910012207\n",
      "0.5764127692850778\n",
      "Epoch 18/50 - Train Loss: 0.6898 - Train Accuracy: 79.10% - Val Loss: 1.5243 - Val Accuracy: 0.59%, f1_score 0.5764127692850778\n",
      "0.5835166321561518\n",
      "Epoch 19/50 - Train Loss: 0.6164 - Train Accuracy: 80.10% - Val Loss: 1.4224 - Val Accuracy: 0.58%, f1_score 0.5835166321561518\n",
      "0.5466431077950951\n",
      "Epoch 20/50 - Train Loss: 0.5490 - Train Accuracy: 81.21% - Val Loss: 1.5591 - Val Accuracy: 0.56%, f1_score 0.5466431077950951\n",
      "0.5730977461030364\n",
      "Epoch 21/50 - Train Loss: 0.5988 - Train Accuracy: 79.90% - Val Loss: 1.4363 - Val Accuracy: 0.58%, f1_score 0.5730977461030364\n",
      "0.5906434471261599\n",
      "Epoch 22/50 - Train Loss: 0.5556 - Train Accuracy: 81.81% - Val Loss: 1.5946 - Val Accuracy: 0.59%, f1_score 0.5906434471261599\n",
      "0.5267524113338906\n",
      "Epoch 23/50 - Train Loss: 0.5360 - Train Accuracy: 79.70% - Val Loss: 1.6031 - Val Accuracy: 0.55%, f1_score 0.5267524113338906\n",
      "0.5483705132663488\n",
      "Epoch 24/50 - Train Loss: 0.4984 - Train Accuracy: 83.02% - Val Loss: 1.5999 - Val Accuracy: 0.56%, f1_score 0.5483705132663488\n",
      "0.5447309954563592\n",
      "Epoch 25/50 - Train Loss: 0.4848 - Train Accuracy: 84.22% - Val Loss: 1.5987 - Val Accuracy: 0.54%, f1_score 0.5447309954563592\n",
      "0.5378715357019733\n",
      "Epoch 26/50 - Train Loss: 0.4300 - Train Accuracy: 86.33% - Val Loss: 1.5965 - Val Accuracy: 0.55%, f1_score 0.5378715357019733\n",
      "0.5597582493290405\n",
      "Epoch 27/50 - Train Loss: 0.5893 - Train Accuracy: 80.80% - Val Loss: 1.7259 - Val Accuracy: 0.58%, f1_score 0.5597582493290405\n",
      "0.5480929955558886\n",
      "Epoch 28/50 - Train Loss: 0.4598 - Train Accuracy: 84.72% - Val Loss: 1.6332 - Val Accuracy: 0.56%, f1_score 0.5480929955558886\n",
      "0.543706107771034\n",
      "Epoch 29/50 - Train Loss: 0.4639 - Train Accuracy: 84.32% - Val Loss: 1.6600 - Val Accuracy: 0.55%, f1_score 0.543706107771034\n",
      "0.557939484513627\n",
      "Epoch 30/50 - Train Loss: 0.4962 - Train Accuracy: 83.22% - Val Loss: 1.6591 - Val Accuracy: 0.57%, f1_score 0.557939484513627\n",
      "0.6076926093549788\n",
      "Epoch 31/50 - Train Loss: 0.4235 - Train Accuracy: 86.33% - Val Loss: 1.5733 - Val Accuracy: 0.61%, f1_score 0.6076926093549788\n",
      "0.5919063523863007\n",
      "Epoch 32/50 - Train Loss: 0.4061 - Train Accuracy: 88.04% - Val Loss: 1.4405 - Val Accuracy: 0.60%, f1_score 0.5919063523863007\n"
     ]
    }
   ],
   "source": [
    "num_epochs = 50\n",
    "\n",
    "best_accuracy = 0\n",
    "best_loss = float('inf')\n",
    "best_epoch = 0\n",
    "best_f1_score = 0\n",
    "f1_score = 0\n",
    "for epoch in range(num_epochs):\n",
    "    running_loss = 0.0\n",
    "    correct = 0\n",
    "    total = 0\n",
    "    for i, data in enumerate(train_dataloader, 0):\n",
    "        inputs, labels = data\n",
    "        # Zero the parameter gradients\n",
    "        optimizer.zero_grad()\n",
    "\n",
    "        # Forward pass\n",
    "        outputs = model(inputs)\n",
    "        loss = criterion(outputs, labels)\n",
    "\n",
    "        # Backward pass and optimization\n",
    "        loss.backward()\n",
    "        optimizer.step()\n",
    "\n",
    "        # Record the loss and accuracy\n",
    "        running_loss += loss.item()\n",
    "        _, predicted = torch.max(outputs.data, 1)\n",
    "        total += labels.size(0)\n",
    "        correct += (predicted == labels).sum().item()\n",
    "    \n",
    "    # Calculate the average loss and accuracy for the epoch\n",
    "    train_loss = running_loss / len(train_dataloader)\n",
    "    train_accuracy = 100 * correct / total\n",
    "    train_losses.append(train_loss)\n",
    "    train_accuracies.append(train_accuracy)\n",
    "\n",
    "    # Validate the model\n",
    "    val_loss, val_accuracy, f1_score = validate(model, val_dataloader, criterion)\n",
    "    val_losses.append(val_loss)\n",
    "    val_accuracies.append(val_accuracy)\n",
    "    f1_scores.append(f1_score)\n",
    "\n",
    "    print(\"Epoch {}/{} - Train Loss: {:.4f} - Train Accuracy: {:.2f}% - Val Loss: {:.4f} - Val Accuracy: {:.2f}%, f1_score {:}\".format(\n",
    "        epoch + 1, num_epochs, train_loss, train_accuracy, val_loss, val_accuracy, f1_score))\n",
    "    if f1_score > best_f1_score:\n",
    "        best_f1_score = f1_score\n",
    "#         best_loss = val_loss\n",
    "        best_epoch = epoch\n",
    "        torch.save(model.state_dict(), 'best_model_f1.pt')"
   ]
  },
  {
   "cell_type": "code",
   "execution_count": null,
   "id": "9ea2d5f5",
   "metadata": {},
   "outputs": [],
   "source": [
    "print(f1_scores)\n",
    "best_f1_score"
   ]
  },
  {
   "cell_type": "code",
   "execution_count": null,
   "id": "3b8672f7",
   "metadata": {},
   "outputs": [],
   "source": [
    "epochs = range(1, num_epochs + 1)\n",
    "plt.subplot(2, 1, 1)\n",
    "plt.plot(epochs, train_losses, 'b', label='Train Loss')\n",
    "plt.plot(epochs, val_losses, 'r', label='Validation Loss')\n",
    "plt.title('Train and Validation Loss')\n",
    "plt.xlabel('Epochs')\n",
    "plt.ylabel('Loss')\n",
    "plt.xticks(range(1, num_epochs+1))\n",
    "plt.legend()\n",
    "plt.axvline(x = best_epoch+1, linestyle = '-')\n",
    "plt.show()\n",
    "\n",
    "plt.subplot(2, 1, 2)\n",
    "plt.plot(epochs, train_accuracies, 'b', label='Train Accuracy')\n",
    "plt.plot(epochs, val_accuracies, 'r', label='Validation Accuracy')\n",
    "plt.title('Train and Validation Accuracy')\n",
    "plt.xticks(range(1, num_epochs+1))\n",
    "plt.xlabel('Epochs')\n",
    "plt.ylabel('Accuracy')\n",
    "plt.legend()\n",
    "plt.axvline(x = best_epoch+1, linestyle = '-')\n",
    "plt.show()\n",
    "\n",
    "\n",
    "#plt.plt(train_losses, val_losses)"
   ]
  },
  {
   "cell_type": "code",
   "execution_count": null,
   "id": "888103a4",
   "metadata": {},
   "outputs": [],
   "source": [
    "# best_model = models.resnet.ResNet(...)\n",
    "model.load_state_dict(torch.load('best_model_f1.pt'))\n",
    "# print(model)\n",
    "test_loss, test_accuracy, test_f1_score = validate(model, test_dataloader, criterion)\n",
    "print(best_epoch+1)\n",
    "print(\"Test Loss: {:.4f}, Test Accuracy: {:.2f}% in the epoch {:} F1 {:}\".format(test_loss, test_accuracy, best_epoch+1, test_f1_score))"
   ]
  },
  {
   "cell_type": "code",
   "execution_count": null,
   "id": "dcd842fc",
   "metadata": {},
   "outputs": [],
   "source": [
    "# print(model)\n",
    "# type(best_model)\n",
    "# type(model)\n",
    "# print(best_model.__class_)"
   ]
  },
  {
   "cell_type": "markdown",
   "id": "85d4147f",
   "metadata": {},
   "source": [
    "Почему использовали F1 score взвешенный"
   ]
  },
  {
   "cell_type": "code",
   "execution_count": null,
   "id": "41c5ba8a",
   "metadata": {},
   "outputs": [],
   "source": [
    "# Initialize the confusion matrix\n",
    "\n",
    "confusion_matrix = torch.zeros(len(image_dataset.classes), len(image_dataset.classes), dtype=torch.int64)\n",
    "\n",
    "# Initialize the lists to store the true labels and predicted labels for the test set\n",
    "true_labels = []\n",
    "pred_labels = []\n",
    "\n",
    "# Evaluation mode\n",
    "model.eval()\n",
    "\n",
    "# Set the gradient computation to be off\n",
    "with torch.no_grad():\n",
    "    # Iterate over the test data\n",
    "    for inputs, labels in test_dataloader:\n",
    "        inputs, labels = inputs.to(device), labels.to(device)\n",
    "        outputs = model(inputs)\n",
    "        _, preds = torch.max(outputs, dim=1)\n",
    "        \n",
    "        # Append the true labels and predicted labels to the lists\n",
    "        true_labels.extend(labels.tolist())\n",
    "        pred_labels.extend(preds.tolist())\n",
    "        \n",
    "        # Increment the count in the corresponding cells of the confusion matrix\n",
    "        for t, p in zip(labels, preds):\n",
    "            confusion_matrix[t, p] += 1\n",
    "\n",
    "# Compute the precision, recall and f1-score\n",
    "precision, recall, f1_score, _ = precision_recall_fscore_support(true_labels, pred_labels, average='weighted')\n",
    "precision_macro, recall_macro, f1_score_macro, _ = precision_recall_fscore_support(true_labels, pred_labels, average='macro')\n",
    "\n",
    "# Print the test loss, test accuracy and f1-score\n",
    "print(\"Weighted Test Loss: {:.4f} - Test Accuracy: {:.2f}% - Test F1-Score: {:.2f}\".format(test_loss, test_accuracy, f1_score))\n",
    "print(\"Macro Test Loss: {:.4f} - Test Accuracy: {:.2f}% - Test F1-Score: {:.2f}\".format(test_loss, test_accuracy, f1_score_macro))"
   ]
  },
  {
   "cell_type": "code",
   "execution_count": null,
   "id": "f49e78fa",
   "metadata": {},
   "outputs": [],
   "source": [
    "confusion_matrix"
   ]
  },
  {
   "cell_type": "code",
   "execution_count": null,
   "id": "7f33b2e1",
   "metadata": {},
   "outputs": [],
   "source": [
    "print(precision)\n",
    "print(recall)"
   ]
  },
  {
   "cell_type": "code",
   "execution_count": null,
   "id": "2eab49cd",
   "metadata": {},
   "outputs": [],
   "source": [
    "print(train_losses)\n",
    "print(train_accuracies)\n",
    "print(val_losses)\n",
    "print(val_accuracies)"
   ]
  },
  {
   "cell_type": "code",
   "execution_count": null,
   "id": "4445283e",
   "metadata": {},
   "outputs": [],
   "source": []
  }
 ],
 "metadata": {
  "kernelspec": {
   "display_name": "Python 3 (ipykernel)",
   "language": "python",
   "name": "python3"
  },
  "language_info": {
   "codemirror_mode": {
    "name": "ipython",
    "version": 3
   },
   "file_extension": ".py",
   "mimetype": "text/x-python",
   "name": "python",
   "nbconvert_exporter": "python",
   "pygments_lexer": "ipython3",
   "version": "3.10.9"
  }
 },
 "nbformat": 4,
 "nbformat_minor": 5
}
