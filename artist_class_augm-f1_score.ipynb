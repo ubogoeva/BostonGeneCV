{
 "cells": [
  {
   "cell_type": "markdown",
   "id": "fef86c1f",
   "metadata": {},
   "source": [
    "### Классификация изображений художников разного стиля с использованием `PyTorch`"
   ]
  },
  {
   "cell_type": "markdown",
   "id": "42440bce",
   "metadata": {},
   "source": [
    "Импорт библиотек:"
   ]
  },
  {
   "cell_type": "code",
   "execution_count": 7,
   "id": "177de143",
   "metadata": {},
   "outputs": [],
   "source": [
    "import torch\n",
    "import torchvision\n",
    "import torchvision.transforms as transforms\n",
    "import torch.nn as nn\n",
    "import torch.optim as optim\n",
    "#import os\n",
    "import torch.nn.functional as F\n",
    "import matplotlib.pyplot as plt\n",
    "from collections import defaultdict # to check distribution by classes\n",
    "from sklearn.metrics import precision_recall_fscore_support # to calculate F1 score\n",
    "from sklearn.model_selection import StratifiedShuffleSplit\n",
    "\n",
    "device = torch.device(\"cuda\" if torch.cuda.is_available() else \"cpu\")"
   ]
  },
  {
   "cell_type": "markdown",
   "id": "2b41b5f2",
   "metadata": {},
   "source": [
    "Определяем трансформацию изображений: отдельно для тренировочного набора с аугментацией данных и отдельно для тестового и валидационного."
   ]
  },
  {
   "cell_type": "code",
   "execution_count": 2,
   "id": "decefff5",
   "metadata": {},
   "outputs": [],
   "source": [
    "# define default transormation\n",
    "\n",
    "val_transform = transforms.Compose([\n",
    "    transforms.Resize(64),\n",
    "    transforms.CenterCrop(64),\n",
    "    transforms.ToTensor(),\n",
    "    transforms.Normalize(mean=[0.485, 0.456, 0.406], std=[0.229, 0.224, 0.225])\n",
    "])\n",
    "\n",
    "# randop crop\n",
    "train_transform = transforms.Compose([\n",
    "    transforms.RandomHorizontalFlip(),\n",
    "    transforms.RandomVerticalFlip(),\n",
    "#     transforms.ColorJitter(brightness=0.4, contrast=0.4, saturation=0.4),\n",
    "    transforms.RandomGrayscale(p=0.2),\n",
    "    transforms.RandomRotation(30),\n",
    "    #transforms.GaussianNoise(0.1),\n",
    "\n",
    "    transforms.Resize(64),\n",
    "    transforms.CenterCrop(64),\n",
    "    transforms.ToTensor(),\n",
    "    transforms.Normalize(mean=[0.485, 0.456, 0.406], std=[0.229, 0.224, 0.225])\n",
    "    #transforms.Normalize()\n",
    "    #transforms.Normalize(mean, std)\n",
    "\n",
    "])"
   ]
  },
  {
   "cell_type": "markdown",
   "id": "fc80c3a1",
   "metadata": {},
   "source": [
    "Загрузка изображений, которые хранятся в директории `images` "
   ]
  },
  {
   "cell_type": "code",
   "execution_count": 11,
   "id": "c049dad3",
   "metadata": {},
   "outputs": [
    {
     "name": "stdout",
     "output_type": "stream",
     "text": [
      "Dataset ImageFolder\n",
      "    Number of datapoints: 1422\n",
      "    Root location: images\n",
      "    StandardTransform\n",
      "Transform: Compose(\n",
      "               Resize(size=64, interpolation=bilinear, max_size=None, antialias=None)\n",
      "               CenterCrop(size=(64, 64))\n",
      "               ToTensor()\n",
      "               Normalize(mean=[0.485, 0.456, 0.406], std=[0.229, 0.224, 0.225])\n",
      "           )\n"
     ]
    }
   ],
   "source": [
    "image_dataset = torchvision.datasets.ImageFolder('images', transform=val_transform)\n",
    "print(image_dataset)"
   ]
  },
  {
   "cell_type": "markdown",
   "id": "fc13bbe5",
   "metadata": {},
   "source": [
    "Разбиваем изображения на трейновый, валидационный и тестовый набор (70%, 20%, 10%) без стратификации. Оказалось, что это работает хуже чем со стратификацией с учетом размеров классов. Поэтому закоментировано"
   ]
  },
  {
   "cell_type": "code",
   "execution_count": null,
   "id": "2af615ec",
   "metadata": {},
   "outputs": [],
   "source": [
    "# train_size = int(0.7 * len(image_dataset))\n",
    "# val_size = int(0.2 * len(image_dataset))\n",
    "# test_size = len(image_dataset) - train_size - val_size\n",
    "# train_dataset, val_dataset, test_dataset = torch.utils.data.random_split(image_dataset, [train_size, val_size, test_size])\n",
    "# # realize data augmentation for train set\n",
    "# train_dataset.dataset.transform = train_transform\n"
   ]
  },
  {
   "cell_type": "code",
   "execution_count": null,
   "id": "bca2437c",
   "metadata": {},
   "outputs": [],
   "source": [
    "# print(\"Train set size: {:}, validation set size: {:}, test set size: {:}\".format(train_size, val_size, test_size))\n",
    "\n",
    "# print(train_size)\n",
    "# print(val_size)\n",
    "# print(test_size)\n",
    "# print(train_dataset.dataset)"
   ]
  },
  {
   "cell_type": "code",
   "execution_count": null,
   "id": "8a1cb3cb",
   "metadata": {},
   "outputs": [],
   "source": [
    "# загрузка данных соответствующего размера\n",
    "# train_dataloader = torch.utils.data.DataLoader(train_dataset, batch_size=32, shuffle=True)\n",
    "# val_dataloader = torch.utils.data.DataLoader(val_dataset, batch_size=32, shuffle=False)\n",
    "# test_dataloader = torch.utils.data.DataLoader(test_dataset, batch_size=32, shuffle=False)"
   ]
  },
  {
   "cell_type": "markdown",
   "id": "5c34fcf9",
   "metadata": {},
   "source": [
    "Разбиваем изображения на трейновый, валидационный и тестовый набор с учетом размеров классов."
   ]
  },
  {
   "cell_type": "code",
   "execution_count": 27,
   "id": "3bfdcbc8",
   "metadata": {},
   "outputs": [
    {
     "name": "stdout",
     "output_type": "stream",
     "text": [
      "Time taken by code snippet 1: 4.989258050918579\n",
      "Time taken by code snippet 2: 4.463263273239136\n"
     ]
    }
   ],
   "source": [
    "import time\n",
    "\n",
    "# Code snippet 1\n",
    "start_time = time.time()\n",
    "labels = [image_dataset[i][1] for i in range(len(image_dataset))]\n",
    "split = StratifiedShuffleSplit(n_splits=1, test_size=0.3)\n",
    "for train_index, test_valid_index in split.split(range(len(image_dataset)), labels):\n",
    "    train_dataset = torch.utils.data.Subset(image_dataset, train_index)\n",
    "    test_valid_dataset = torch.utils.data.Subset(image_dataset, test_valid_index)\n",
    "split = StratifiedShuffleSplit(n_splits=1, test_size=0.4)\n",
    "for val_index, test_index in split.split(range(len(test_valid_dataset)), [test_valid_dataset[i][1] for i in range(len(test_valid_dataset))]):\n",
    "    test_dataset = torch.utils.data.Subset(test_valid_dataset, test_index)\n",
    "    val_dataset = torch.utils.data.Subset(test_valid_dataset, val_index)\n",
    "print(\"Time taken by code snippet 1:\", time.time() - start_time)\n",
    "\n",
    "# Code snippet 2\n",
    "start_time = time.time()\n",
    "labels = [label for _, label in image_dataset]\n",
    "split = StratifiedShuffleSplit(n_splits=1, test_size=0.3)\n",
    "train_index, test_valid_index = next(split.split(range(len(image_dataset)), labels))\n",
    "train_dataset = torch.utils.data.Subset(image_dataset, train_index)\n",
    "test_valid_dataset = torch.utils.data.Subset(image_dataset, test_valid_index)\n",
    "split = StratifiedShuffleSplit(n_splits=1, test_size=0.4)\n",
    "val_index, test_index = next(split.split(range(len(test_valid_dataset)), [label for _, label in test_valid_dataset]))\n",
    "test_dataset = torch.utils.data.Subset(test_valid_dataset, test_index)\n",
    "val_dataset = torch.utils.data.Subset(test_valid_dataset, val_index)\n",
    "print(\"Time taken by code snippet 2:\", time.time() - start_time)\n"
   ]
  },
  {
   "cell_type": "code",
   "execution_count": 43,
   "id": "8f52b9a0",
   "metadata": {},
   "outputs": [
    {
     "name": "stdout",
     "output_type": "stream",
     "text": [
      "427\n",
      "[315 326 283 391  49 247  99 397 121  27 266  44 354 248 207 126  51 141\n",
      " 163 278  22 252 125 213 284  86 417 363  38 269  17  35 367 353 412  55\n",
      " 111 231  24 362 337 244  16 227 157 268 336 309 379 394 387 419  62 423\n",
      " 100 288 162 342 319  97 258 358 347   6 384 115 416 253 348  40  73 381\n",
      " 371 113 338 302 286  93  54 155 378 277 108 316 120  58 243  82 216 218\n",
      "   7 386 153 138  72 314 270 160 146  10  77 402  70 324 191 383  14 147\n",
      "  48  45 260 230 142 221 296  30 242 289 110   3 272 237 246 123 374 343\n",
      " 421  41   9 151 405 377  37 145 170 293 306  63 195 317 407 181 196   2\n",
      " 194  25 116 370 201 208 368 217  69 127 214 220 325 128 107 330  67 135\n",
      " 251  66 398 222 192 346 174 276  23  60 424 307 271 273 118 261  84 310\n",
      " 224 369 408  50  18 117 413 411   0 139 255 205 148 275 401 124 168 335\n",
      " 211  21 389 140 189 103 239 313 299 234  80  13 133 131 380 328 188  75\n",
      " 372 323 198 332 226   5 292   1 250  85 331 164 206 232 167 340 390 101\n",
      "  12 406 176  20 422 274  52 418 308 143  28 339 361 183  32 376  43 223\n",
      " 385 297 404  36]\n",
      "[136 109  26 106 303  92 291  46 281 102  11 267 156 228 290 171 184 333\n",
      "  87 329  57  91 200  90 178  61 392 425 403 414 130 182   8 166 204 122\n",
      " 415 355  95 229 364 264  68 262  15 388 396 129 152 165 225  76 177 241\n",
      " 410 312 311 158  96 279 169 186 104 294  29  83 132 175 280 287 426 185\n",
      " 300 212 409 235  64  53 150 245  39  42  33 357  81 365 257 349  89 197\n",
      "  79 149 144 190 304 161 159 209 180 114 341 350 119 382 375 254 395 334\n",
      "  94 240 263 193 399 210 219 215 137 400 238 360 366  31 282 344 352  71\n",
      " 420 356 199 322 233 203 236 321 359  74  88  65  47 393 285 256 134 202\n",
      " 187 265 105  98 179 305 249 298 373 172  56 112 301 327 320 154  78 295\n",
      " 173 259  59  34   4 318 345 351  19]\n"
     ]
    }
   ],
   "source": [
    "# labels = [label for _, label in image_dataset]\n",
    "\n",
    "# print(len(labels))\n",
    "# split = StratifiedShuffleSplit(n_splits=1, test_size=0.3)\n",
    "# print(split.train_size)\n",
    "\n",
    "# print(train_index)\n",
    "print(len(test_valid_index))\n",
    "print(val_index)\n",
    "print(test_index)"
   ]
  },
  {
   "cell_type": "code",
   "execution_count": 26,
   "id": "6eee5ed2",
   "metadata": {},
   "outputs": [],
   "source": [
    "from sklearn.model_selection import StratifiedShuffleSplit\n",
    "\n",
    "# Get the labels for each image\n",
    "# labels = [image_dataset[i][1] for i in range(len(image_dataset))]\n",
    "labels = [label for _, label in image_dataset]\n",
    "\n",
    "# Create the stratified shuffle split object\n",
    "split = StratifiedShuffleSplit(n_splits=1, test_size=0.3)\n",
    "\n",
    "# Split the indices of the images into train and validation-test sets\n",
    "train_index, test_valid_index = next(split.split(range(len(image_dataset)), labels))\n",
    "train_dataset = torch.utils.data.Subset(image_dataset, train_index)\n",
    "test_valid_dataset = torch.utils.data.Subset(image_dataset, test_valid_index)\n",
    "\n",
    "# for train_index, test_valid_index in split.split(range(len(image_dataset)), labels):\n",
    "#     train_dataset = torch.utils.data.Subset(image_dataset, train_index)\n",
    "#     test_valid_dataset = torch.utils.data.Subset(image_dataset, test_valid_index)\n",
    "\n",
    "# Create a second stratified shuffle split object for the train set\n",
    "split = StratifiedShuffleSplit(n_splits=1, test_size=0.4)\n",
    "val_index, test_index = next(split.split(range(len(test_valid_dataset)), [label for _, label in test_valid_dataset]))\n",
    "test_dataset = torch.utils.data.Subset(test_valid_dataset, test_index)\n",
    "val_dataset = torch.utils.data.Subset(test_valid_dataset, val_index)\n",
    "\n",
    "# Split the indices of the train set into train and validation sets\n",
    "# for val_index, test_index in split.split(range(len(test_valid_dataset)), [test_valid_dataset[i][1] for i in range(len(test_valid_dataset))]):\n",
    "#     test_dataset = torch.utils.data.Subset(test_valid_dataset, test_index)\n",
    "#     val_dataset = torch.utils.data.Subset(test_valid_dataset, val_index)\n"
   ]
  },
  {
   "cell_type": "code",
   "execution_count": null,
   "id": "dcf6da87",
   "metadata": {},
   "outputs": [],
   "source": []
  },
  {
   "cell_type": "code",
   "execution_count": 36,
   "id": "ff10e7e8",
   "metadata": {
    "scrolled": true
   },
   "outputs": [
    {
     "name": "stdout",
     "output_type": "stream",
     "text": [
      "Dataset ImageFolder\n",
      "    Number of datapoints: 1422\n",
      "    Root location: images\n",
      "    StandardTransform\n",
      "Transform: Compose(\n",
      "               Resize(size=64, interpolation=bilinear, max_size=None, antialias=None)\n",
      "               CenterCrop(size=(64, 64))\n",
      "               ToTensor()\n",
      "               Normalize(mean=[0.485, 0.456, 0.406], std=[0.229, 0.224, 0.225])\n",
      "           )\n"
     ]
    }
   ],
   "source": [
    "# загрузка данных соответствующего размера\n",
    "train_dataset.dataset.transform = train_transform\n",
    "print(train_dataset.dataset)\n",
    "batch_size = 32\n",
    "train_dataloader = torch.utils.data.DataLoader(train_dataset, batch_size=batch_size, shuffle=True)\n",
    "val_dataloader = torch.utils.data.DataLoader(val_dataset, batch_size=batch_size, shuffle=False)\n",
    "test_dataloader = torch.utils.data.DataLoader(test_dataset, batch_size=batch_size, shuffle=False)"
   ]
  },
  {
   "cell_type": "code",
   "execution_count": 48,
   "id": "2b2aecd5",
   "metadata": {},
   "outputs": [
    {
     "name": "stdout",
     "output_type": "stream",
     "text": [
      "Compose(\n",
      "    RandomHorizontalFlip(p=0.5)\n",
      "    RandomVerticalFlip(p=0.5)\n",
      "    RandomGrayscale(p=0.2)\n",
      "    RandomRotation(degrees=[-30.0, 30.0], interpolation=nearest, expand=False, fill=0)\n",
      "    Resize(size=64, interpolation=bilinear, max_size=None, antialias=None)\n",
      "    CenterCrop(size=(64, 64))\n",
      "    ToTensor()\n",
      "    Normalize(mean=[0.485, 0.456, 0.406], std=[0.229, 0.224, 0.225])\n",
      ")\n",
      "[315 326 283 391  49 247  99 397 121  27 266  44 354 248 207 126  51 141\n",
      " 163 278  22 252 125 213 284  86 417 363  38 269  17  35 367 353 412  55\n",
      " 111 231  24 362 337 244  16 227 157 268 336 309 379 394 387 419  62 423\n",
      " 100 288 162 342 319  97 258 358 347   6 384 115 416 253 348  40  73 381\n",
      " 371 113 338 302 286  93  54 155 378 277 108 316 120  58 243  82 216 218\n",
      "   7 386 153 138  72 314 270 160 146  10  77 402  70 324 191 383  14 147\n",
      "  48  45 260 230 142 221 296  30 242 289 110   3 272 237 246 123 374 343\n",
      " 421  41   9 151 405 377  37 145 170 293 306  63 195 317 407 181 196   2\n",
      " 194  25 116 370 201 208 368 217  69 127 214 220 325 128 107 330  67 135\n",
      " 251  66 398 222 192 346 174 276  23  60 424 307 271 273 118 261  84 310\n",
      " 224 369 408  50  18 117 413 411   0 139 255 205 148 275 401 124 168 335\n",
      " 211  21 389 140 189 103 239 313 299 234  80  13 133 131 380 328 188  75\n",
      " 372 323 198 332 226   5 292   1 250  85 331 164 206 232 167 340 390 101\n",
      "  12 406 176  20 422 274  52 418 308 143  28 339 361 183  32 376  43 223\n",
      " 385 297 404  36]\n"
     ]
    }
   ],
   "source": [
    "print(train_dataset.dataset.transform)\n",
    "print(val_dataset.indices)\n",
    "# print(val_dataset.dataset.transform)\n",
    "# print(test_dataloader.dataset.transform)\n",
    "# print(test_dataset.dataset.transform)"
   ]
  },
  {
   "cell_type": "code",
   "execution_count": null,
   "id": "c2199b33",
   "metadata": {},
   "outputs": [],
   "source": []
  },
  {
   "cell_type": "code",
   "execution_count": 22,
   "id": "c28740f8",
   "metadata": {
    "scrolled": true
   },
   "outputs": [
    {
     "name": "stdout",
     "output_type": "stream",
     "text": [
      "Train set size: 995, validation set size: 170, test set size: 257\n"
     ]
    }
   ],
   "source": [
    "print(\"Train set size: {:}, validation set size: {:}, test set size: {:}\".format(train_index.size, val_index.size, test_index.size))"
   ]
  },
  {
   "cell_type": "markdown",
   "id": "69099240",
   "metadata": {},
   "source": [
    "Проверим результат разбиения по классам"
   ]
  },
  {
   "cell_type": "code",
   "execution_count": 50,
   "id": "adc846d2",
   "metadata": {},
   "outputs": [
    {
     "name": "stdout",
     "output_type": "stream",
     "text": [
      "{'Train set': defaultdict(<class 'int'>, {3: 142, 7: 97, 1: 255, 5: 82, 2: 168, 0: 46, 6: 52, 4: 153}), 'Validation set': defaultdict(<class 'int'>, {4: 39, 2: 43, 1: 66, 5: 21, 3: 37, 6: 14, 0: 11, 7: 25}), 'Test set': defaultdict(<class 'int'>, {6: 9, 3: 24, 4: 26, 2: 29, 1: 44, 7: 17, 5: 14, 0: 8})}\n"
     ]
    }
   ],
   "source": [
    "def count_classes(dataloader):\n",
    "    labels_count = defaultdict(int)\n",
    "    for i, data in enumerate(dataloader, 0):\n",
    "        inputs, labels = data\n",
    "        for label in labels:\n",
    "            labels_count[label.item()] += 1\n",
    "    return(labels_count)\n",
    "\n",
    "data = {'Train set': count_classes(train_dataloader),\n",
    "        'Validation set': count_classes(val_dataloader),\n",
    "        'Test set': count_classes(test_dataloader)}\n",
    "print(data)"
   ]
  },
  {
   "cell_type": "code",
   "execution_count": 52,
   "id": "1ff5658b",
   "metadata": {},
   "outputs": [
    {
     "name": "stdout",
     "output_type": "stream",
     "text": [
      "Train set\n",
      "[0, 1, 2, 3, 4, 5, 6, 7]\n",
      "[46, 255, 168, 142, 153, 82, 52, 97]\n",
      "Validation set\n",
      "[0, 1, 2, 3, 4, 5, 6, 7]\n",
      "[11, 66, 43, 37, 39, 21, 14, 25]\n",
      "Test set\n",
      "[0, 1, 2, 3, 4, 5, 6, 7]\n",
      "[8, 44, 29, 24, 26, 14, 9, 17]\n"
     ]
    }
   ],
   "source": [
    "sorted_data = {group: dict(sorted(data[group].items())) for group in data.keys()}\n",
    "\n",
    "for i, group in enumerate(sorted_data.keys()):\n",
    "    print(group)\n",
    "    print(list(sorted_data[group].keys()))\n",
    "    print(list(sorted_data[group].values()))\n",
    "    \n",
    "# for i, group in enumerate(data.keys()):\n",
    "#     print(group)\n",
    "#     keys = list(data[group].keys())\n",
    "#     print(keys)\n",
    "#     print(list(data[group].values()))"
   ]
  },
  {
   "cell_type": "code",
   "execution_count": 56,
   "id": "e4426dbe",
   "metadata": {},
   "outputs": [
    {
     "data": {
      "image/png": "[encoded data removed]",
      "text/plain": [
       "<Figure size 640x480 with 1 Axes>"
      ]
     },
     "metadata": {},
     "output_type": "display_data"
    }
   ],
   "source": [
    "colors = ['#fc8d59', '#ffffbf', '#91cf60']\n",
    "\n",
    "for i, group in enumerate(data.keys()):\n",
    "    keys = list(data[group].keys())\n",
    "    values = list(data[group].values())\n",
    "    plt.bar(keys, values, edgecolor='black', color=colors[i], label=group)\n",
    "\n",
    "plt.xlabel('Classes of images')\n",
    "plt.ylabel('Count')\n",
    "plt.title('Splitting to sets')\n",
    "plt.legend()\n",
    "plt.show()"
   ]
  },
  {
   "cell_type": "code",
   "execution_count": 60,
   "id": "8888323d",
   "metadata": {},
   "outputs": [
    {
     "data": {
      "image/png": "[encoded data removed]",
      "text/plain": [
       "<Figure size 640x480 with 1 Axes>"
      ]
     },
     "metadata": {},
     "output_type": "display_data"
    }
   ],
   "source": [
    "import seaborn as sns\n",
    "# import matplotlib.pyplot as plt\n",
    "import pandas as pd\n",
    "import numpy as np\n",
    "keys = list(data['Train set'].keys())\n",
    "train_values = list(data['Train set'].values())\n",
    "val_values = list(data['Validation set'].values())\n",
    "test_values = list(data['Test set'].values())\n",
    "\n",
    "df = pd.DataFrame({'keys': keys, \n",
    "                   'Train set': train_values, \n",
    "                   'Validation set': val_values, \n",
    "                   'Test set': test_values})\n",
    "\n",
    "sns.barplot(x='keys', y='Train set', data=df, color='#fc8d59', label='Train set')\n",
    "sns.barplot(x='keys', y='Validation set', data=df, color='#ffffbf', label='Validation set', bottom=train_values)\n",
    "sns.barplot(x='keys', y='Test set', data=df, color='#91cf60', label='Test set', bottom=np.array(train_values) + np.array(val_values))\n",
    "\n",
    "plt.xlabel('Classes of images')\n",
    "plt.ylabel('Count')\n",
    "plt.title('Splitting to sets')\n",
    "plt.legend()\n",
    "plt.show()\n",
    "\n",
    "plt.show()\n"
   ]
  },
  {
   "cell_type": "markdown",
   "id": "cfab5345",
   "metadata": {},
   "source": [
    "Определяем модель для классификации изображений: resnet с 18 слоями, задаем на полносвязном уровне количество наших классов "
   ]
  },
  {
   "cell_type": "code",
   "execution_count": null,
   "id": "aff2c253",
   "metadata": {},
   "outputs": [],
   "source": [
    "model = torchvision.models.resnet18(weights=True)\n",
    "#model = torchvision.models.resnet50(weights=True)\n",
    "\n",
    "model.fc = nn.Linear(512, len(image_dataset.classes))\n",
    "# model.fc.register_forward_hook(lambda m, inp, out: F.dropout(out, p=0.2, training=m.training))\n",
    "#model.fc.register_forward_hook(lambda m, inp, out: nn.Softmax(out))\n",
    "#model.fc = nn.Sequential(\n",
    " #   nn.Linear(512, len(image_dataset.classes)),\n",
    "  #  nn.Softmax())\n",
    "#model.fc.register_forward_hook(lambda m, inp, out: F.dropout(out, p=0.2, training=m.training))\n"
   ]
  },
  {
   "cell_type": "code",
   "execution_count": null,
   "id": "4fb7fb86",
   "metadata": {},
   "outputs": [],
   "source": [
    "# from torchvision.models.feature_extraction import get_graph_node_names\n",
    "# from torchvision.models import resnet50\n",
    "\n",
    "# train_nodes, eval_nodes = get_graph_node_names(resnet50())\n",
    "# print(train_nodes)\n",
    "# print(eval_nodes)"
   ]
  },
  {
   "cell_type": "markdown",
   "id": "27f78fbc",
   "metadata": {},
   "source": [
    "Выбираю функцию ошибки CrossEntropyLoss, поскольку у нас задача классификации нескольких классов. Стохастический градиентный спуск показал самый лучший результат в этой задаче\n"
   ]
  },
  {
   "cell_type": "code",
   "execution_count": null,
   "id": "b010086f",
   "metadata": {},
   "outputs": [],
   "source": [
    "criterion = nn.CrossEntropyLoss()\n",
    "optimizer = optim.SGD(model.parameters(), lr=0.001, momentum=0.9)\n",
    "# optimizer = optim.Adam(model.parameters())\n",
    "# optimizer = optim.RMSprop(model.parameters()) # this optimizer functioned really bad"
   ]
  },
  {
   "cell_type": "code",
   "execution_count": null,
   "id": "2828a9a5",
   "metadata": {},
   "outputs": [],
   "source": [
    "train_losses = []\n",
    "val_losses = []\n",
    "train_accuracies = []\n",
    "val_accuracies = []\n",
    "f1_scores = []"
   ]
  },
  {
   "cell_type": "code",
   "execution_count": null,
   "id": "c76a4343",
   "metadata": {},
   "outputs": [],
   "source": [
    "print(val_dataloader.dataset)"
   ]
  },
  {
   "cell_type": "markdown",
   "id": "5e2d1918",
   "metadata": {},
   "source": [
    "Задаем функцию для проверки валидационного и тестого сета, чтобы не дублировать код"
   ]
  },
  {
   "cell_type": "code",
   "execution_count": null,
   "id": "02184cd9",
   "metadata": {},
   "outputs": [],
   "source": [
    "# import torch\n",
    "# import numpy as np\n",
    "# from sklearn.metrics import precision_recall_fscore_support\n",
    "\n",
    "def validate(curr_model, dataloader, criterion):\n",
    "    with torch.no_grad():\n",
    "        running_loss = 0.0\n",
    "        total = 0\n",
    "        confusion_matrix = torch.zeros(len(image_dataset.classes), len(image_dataset.classes), dtype=torch.int64)\n",
    "        true_labels = []\n",
    "        pred_labels = []\n",
    "\n",
    "        for i, data in enumerate(dataloader, 0):\n",
    "            inputs, labels = data\n",
    "            inputs, labels = inputs.to(device), labels.to(device)\n",
    "            outputs = curr_model(inputs)\n",
    "            loss = criterion(outputs, labels)\n",
    "            running_loss += loss.item()\n",
    "            _, preds = torch.max(outputs, dim=1)\n",
    "            total += labels.size(0)\n",
    "\n",
    "            true_labels.extend(labels.tolist())\n",
    "            pred_labels.extend(preds.tolist())\n",
    "\n",
    "            for t, p in zip(labels, preds):\n",
    "                confusion_matrix[t, p] += 1\n",
    "\n",
    "        val_loss = running_loss / len(dataloader)\n",
    "        precision, recall, f1_score, _ = precision_recall_fscore_support(true_labels, pred_labels, average='weighted', zero_division=0)\n",
    "        precision_macro, recall_macro, f1_score_macro, _ = precision_recall_fscore_support(true_labels, pred_labels, average='macro', zero_division=0)\n",
    "        print(f1_score)\n",
    "#         results = {\n",
    "#             \"Loss\": val_loss,\n",
    "#             \"Confusion Matrix\": confusion_matrix,\n",
    "#             \"Precision\": precision,\n",
    "#             \"Recall\": recall,\n",
    "#             \"F1-Score\": f1_score\n",
    "#             \"Macro Precision\": precision_macro,\n",
    "#             \"Macro Recall\": recall_macro,\n",
    "#             \"Macro F1-Score\": f1_score_macro,\n",
    "#         }\n",
    "    return val_loss, precision, f1_score\n",
    "\n"
   ]
  },
  {
   "cell_type": "code",
   "execution_count": null,
   "id": "1df9d342",
   "metadata": {},
   "outputs": [],
   "source": [
    "# f1_score"
   ]
  },
  {
   "cell_type": "code",
   "execution_count": null,
   "id": "39315025",
   "metadata": {},
   "outputs": [],
   "source": [
    "num_epochs = 50\n",
    "\n",
    "best_accuracy = 0\n",
    "best_loss = float('inf')\n",
    "best_epoch = 0\n",
    "best_f1_score = 0\n",
    "f1_score = 0\n",
    "for epoch in range(num_epochs):\n",
    "    running_loss = 0.0\n",
    "    correct = 0\n",
    "    total = 0\n",
    "    for i, data in enumerate(train_dataloader, 0):\n",
    "        inputs, labels = data\n",
    "        # Zero the parameter gradients\n",
    "        optimizer.zero_grad()\n",
    "\n",
    "        # Forward pass\n",
    "        outputs = model(inputs)\n",
    "        loss = criterion(outputs, labels)\n",
    "\n",
    "        # Backward pass and optimization\n",
    "        loss.backward()\n",
    "        optimizer.step()\n",
    "\n",
    "        # Record the loss and accuracy\n",
    "        running_loss += loss.item()\n",
    "        _, predicted = torch.max(outputs.data, 1)\n",
    "        total += labels.size(0)\n",
    "        correct += (predicted == labels).sum().item()\n",
    "    \n",
    "    # Calculate the average loss and accuracy for the epoch\n",
    "    train_loss = running_loss / len(train_dataloader)\n",
    "    train_accuracy = 100 * correct / total\n",
    "    train_losses.append(train_loss)\n",
    "    train_accuracies.append(train_accuracy)\n",
    "\n",
    "    # Validate the model\n",
    "    val_loss, val_accuracy, f1_score = validate(model, val_dataloader, criterion)\n",
    "    val_losses.append(val_loss)\n",
    "    val_accuracies.append(val_accuracy)\n",
    "    f1_scores.append(f1_score)\n",
    "\n",
    "    print(\"Epoch {}/{} - Train Loss: {:.4f} - Train Accuracy: {:.2f}% - Val Loss: {:.4f} - Val Accuracy: {:.2f}%, f1_score {:}\".format(\n",
    "        epoch + 1, num_epochs, train_loss, train_accuracy, val_loss, val_accuracy, f1_score))\n",
    "    if f1_score > best_f1_score:\n",
    "        best_f1_score = f1_score\n",
    "#         best_loss = val_loss\n",
    "        best_epoch = epoch\n",
    "        torch.save(model.state_dict(), 'best_model_f1.pt')"
   ]
  },
  {
   "cell_type": "code",
   "execution_count": null,
   "id": "7d01c665",
   "metadata": {},
   "outputs": [],
   "source": [
    "print(f1_scores)\n",
    "best_f1_score"
   ]
  },
  {
   "cell_type": "code",
   "execution_count": null,
   "id": "3b8672f7",
   "metadata": {},
   "outputs": [],
   "source": [
    "epochs = range(1, num_epochs + 1)\n",
    "plt.subplot(2, 1, 1)\n",
    "plt.plot(epochs, train_losses, 'b', label='Train Loss')\n",
    "plt.plot(epochs, val_losses, 'r', label='Validation Loss')\n",
    "plt.title('Train and Validation Loss')\n",
    "plt.xlabel('Epochs')\n",
    "plt.ylabel('Loss')\n",
    "plt.xticks(range(1, num_epochs+1))\n",
    "plt.legend()\n",
    "plt.axvline(x = best_epoch+1, linestyle = '-')\n",
    "plt.show()\n",
    "\n",
    "plt.subplot(2, 1, 2)\n",
    "plt.plot(epochs, train_accuracies, 'b', label='Train Accuracy')\n",
    "plt.plot(epochs, val_accuracies, 'r', label='Validation Accuracy')\n",
    "plt.title('Train and Validation Accuracy')\n",
    "plt.xticks(range(1, num_epochs+1))\n",
    "plt.xlabel('Epochs')\n",
    "plt.ylabel('Accuracy')\n",
    "plt.legend()\n",
    "plt.axvline(x = best_epoch+1, linestyle = '-')\n",
    "plt.show()\n",
    "\n",
    "\n",
    "#plt.plt(train_losses, val_losses)"
   ]
  },
  {
   "cell_type": "code",
   "execution_count": null,
   "id": "888103a4",
   "metadata": {},
   "outputs": [],
   "source": [
    "# best_model = models.resnet.ResNet(...)\n",
    "model.load_state_dict(torch.load('best_model_f1.pt'))\n",
    "# print(model)\n",
    "test_loss, test_accuracy, test_f1_score = validate(model, test_dataloader, criterion)\n",
    "print(best_epoch+1)\n",
    "print(\"Test Loss: {:.4f}, Test Accuracy: {:.2f}% in the epoch {:} F1 {:}\".format(test_loss, test_accuracy, best_epoch+1, test_f1_score))"
   ]
  },
  {
   "cell_type": "code",
   "execution_count": null,
   "id": "dcd842fc",
   "metadata": {},
   "outputs": [],
   "source": [
    "# print(model)\n",
    "# type(best_model)\n",
    "# type(model)\n",
    "# print(best_model.__class_)"
   ]
  },
  {
   "cell_type": "markdown",
   "id": "85d4147f",
   "metadata": {},
   "source": [
    "Почему использовали F1 score взвешенный"
   ]
  },
  {
   "cell_type": "code",
   "execution_count": null,
   "id": "41c5ba8a",
   "metadata": {},
   "outputs": [],
   "source": [
    "# Initialize the confusion matrix\n",
    "\n",
    "confusion_matrix = torch.zeros(len(image_dataset.classes), len(image_dataset.classes), dtype=torch.int64)\n",
    "\n",
    "# Initialize the lists to store the true labels and predicted labels for the test set\n",
    "true_labels = []\n",
    "pred_labels = []\n",
    "\n",
    "# Evaluation mode\n",
    "model.eval()\n",
    "\n",
    "# Set the gradient computation to be off\n",
    "with torch.no_grad():\n",
    "    # Iterate over the test data\n",
    "    for inputs, labels in test_dataloader:\n",
    "        inputs, labels = inputs.to(device), labels.to(device)\n",
    "        outputs = model(inputs)\n",
    "        _, preds = torch.max(outputs, dim=1)\n",
    "        \n",
    "        # Append the true labels and predicted labels to the lists\n",
    "        true_labels.extend(labels.tolist())\n",
    "        pred_labels.extend(preds.tolist())\n",
    "        \n",
    "        # Increment the count in the corresponding cells of the confusion matrix\n",
    "        for t, p in zip(labels, preds):\n",
    "            confusion_matrix[t, p] += 1\n",
    "\n",
    "# Compute the precision, recall and f1-score\n",
    "precision, recall, f1_score, _ = precision_recall_fscore_support(true_labels, pred_labels, average='weighted')\n",
    "precision_macro, recall_macro, f1_score_macro, _ = precision_recall_fscore_support(true_labels, pred_labels, average='macro')\n",
    "\n",
    "# Print the test loss, test accuracy and f1-score\n",
    "print(\"Weighted Test Loss: {:.4f} - Test Accuracy: {:.2f}% - Test F1-Score: {:.2f}\".format(test_loss, test_accuracy, f1_score))\n",
    "print(\"Macro Test Loss: {:.4f} - Test Accuracy: {:.2f}% - Test F1-Score: {:.2f}\".format(test_loss, test_accuracy, f1_score_macro))"
   ]
  },
  {
   "cell_type": "code",
   "execution_count": null,
   "id": "f49e78fa",
   "metadata": {},
   "outputs": [],
   "source": [
    "confusion_matrix"
   ]
  },
  {
   "cell_type": "code",
   "execution_count": null,
   "id": "7f33b2e1",
   "metadata": {},
   "outputs": [],
   "source": [
    "print(precision)\n",
    "print(recall)"
   ]
  },
  {
   "cell_type": "code",
   "execution_count": null,
   "id": "2eab49cd",
   "metadata": {},
   "outputs": [],
   "source": [
    "print(train_losses)\n",
    "print(train_accuracies)\n",
    "print(val_losses)\n",
    "print(val_accuracies)"
   ]
  },
  {
   "cell_type": "code",
   "execution_count": null,
   "id": "4445283e",
   "metadata": {},
   "outputs": [],
   "source": []
  }
 ],
 "metadata": {
  "kernelspec": {
   "display_name": "Python 3 (ipykernel)",
   "language": "python",
   "name": "python3"
  },
  "language_info": {
   "codemirror_mode": {
    "name": "ipython",
    "version": 3
   },
   "file_extension": ".py",
   "mimetype": "text/x-python",
   "name": "python",
   "nbconvert_exporter": "python",
   "pygments_lexer": "ipython3",
   "version": "3.10.9"
  }
 },
 "nbformat": 4,
 "nbformat_minor": 5
}
