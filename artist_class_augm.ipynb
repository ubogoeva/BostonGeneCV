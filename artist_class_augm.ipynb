{
 "cells": [
  {
   "cell_type": "markdown",
   "id": "4b928148",
   "metadata": {},
   "source": [
    "### Классификация изображений художников разного стиля с использованием `PyTorch`"
   ]
  },
  {
   "cell_type": "markdown",
   "id": "487ab476",
   "metadata": {},
   "source": [
    "Импорт библиотек:"
   ]
  },
  {
   "cell_type": "code",
   "execution_count": 1,
   "id": "177de143",
   "metadata": {},
   "outputs": [],
   "source": [
    "import torch\n",
    "import torchvision\n",
    "import torchvision.transforms as transforms\n",
    "import torch.nn as nn\n",
    "import torch.optim as optim\n",
    "#import os\n",
    "import torch.nn.functional as F\n",
    "import matplotlib.pyplot as plt\n",
    "from collections import defaultdict\n",
    "from sklearn.metrics import precision_recall_fscore_support\n",
    "\n",
    "device = torch.device(\"cuda\" if torch.cuda.is_available() else \"cpu\")"
   ]
  },
  {
   "cell_type": "markdown",
   "id": "2b41b5f2",
   "metadata": {},
   "source": [
    "Определяем трансформацию изображений: отдельно для тренировочного набора с аугментацией данных и отдельно для тестового и валидационного."
   ]
  },
  {
   "cell_type": "code",
   "execution_count": 2,
   "id": "decefff5",
   "metadata": {},
   "outputs": [],
   "source": [
    "# define default transormation\n",
    "\n",
    "val_transform = transforms.Compose([\n",
    "    transforms.Resize(64),\n",
    "    transforms.CenterCrop(64),\n",
    "    transforms.ToTensor(),\n",
    "    transforms.Normalize(mean=[0.485, 0.456, 0.406], std=[0.229, 0.224, 0.225])\n",
    "])\n",
    "\n",
    "# randop crop\n",
    "train_transform = transforms.Compose([\n",
    "#     transforms.RandomHorizontalFlip(),\n",
    "#     transforms.RandomVerticalFlip(),\n",
    "#     transforms.ColorJitter(brightness=0.4, contrast=0.4, saturation=0.4),\n",
    "#     transforms.RandomGrayscale(p=0.2),\n",
    "#     transforms.RandomRotation(30),\n",
    "    #transforms.GaussianNoise(0.1),\n",
    "\n",
    "    transforms.Resize(64),\n",
    "    transforms.CenterCrop(64),\n",
    "    transforms.ToTensor(),\n",
    "    transforms.Normalize(mean=[0.485, 0.456, 0.406], std=[0.229, 0.224, 0.225])\n",
    "    #transforms.Normalize()\n",
    "    #transforms.Normalize(mean, std)\n",
    "\n",
    "])"
   ]
  },
  {
   "cell_type": "markdown",
   "id": "52edd8b4",
   "metadata": {},
   "source": [
    "Загрузка изображений, которые хранятся в директории `images` "
   ]
  },
  {
   "cell_type": "code",
   "execution_count": 3,
   "id": "c049dad3",
   "metadata": {},
   "outputs": [],
   "source": [
    "image_dataset = torchvision.datasets.ImageFolder('images', transform=val_transform)"
   ]
  },
  {
   "cell_type": "markdown",
   "id": "fc13bbe5",
   "metadata": {},
   "source": [
    "Разбиваем изображения на трейновый, валидационный и тестовый набор (70%, 20%, 10%) без стратификации. Оказалось, что это работает хуже чем со стратификацией с учетом размеров классов "
   ]
  },
  {
   "cell_type": "code",
   "execution_count": 4,
   "id": "2af615ec",
   "metadata": {},
   "outputs": [],
   "source": [
    "# train_size = int(0.7 * len(image_dataset))\n",
    "# val_size = int(0.2 * len(image_dataset))\n",
    "# test_size = len(image_dataset) - train_size - val_size\n",
    "# train_dataset, val_dataset, test_dataset = torch.utils.data.random_split(image_dataset, [train_size, val_size, test_size])\n",
    "# # realize data augmentation for train set\n",
    "# train_dataset.dataset.transform = train_transform\n"
   ]
  },
  {
   "cell_type": "code",
   "execution_count": 5,
   "id": "95428ca1",
   "metadata": {},
   "outputs": [],
   "source": [
    "# print(\"Train set size: {:}, validation set size: {:}, test set size: {:}\".format(train_size, val_size, test_size))\n",
    "\n",
    "# print(train_size)\n",
    "# print(val_size)\n",
    "# print(test_size)\n",
    "# print(train_dataset.dataset)"
   ]
  },
  {
   "cell_type": "code",
   "execution_count": 6,
   "id": "ad77bca7",
   "metadata": {},
   "outputs": [],
   "source": [
    "# загрузка данных соответствующего размера\n",
    "# train_dataloader = torch.utils.data.DataLoader(train_dataset, batch_size=32, shuffle=True)\n",
    "# val_dataloader = torch.utils.data.DataLoader(val_dataset, batch_size=32, shuffle=False)\n",
    "# test_dataloader = torch.utils.data.DataLoader(test_dataset, batch_size=32, shuffle=False)"
   ]
  },
  {
   "cell_type": "markdown",
   "id": "7eca366f",
   "metadata": {},
   "source": [
    "Разбиваем изображения на трейновый, валидационный и тестовый набор с учетом размеров классов."
   ]
  },
  {
   "cell_type": "code",
   "execution_count": 7,
   "id": "2274784b",
   "metadata": {},
   "outputs": [],
   "source": [
    "from sklearn.model_selection import StratifiedShuffleSplit\n",
    "\n",
    "# Get the labels for each image\n",
    "labels = [image_dataset[i][1] for i in range(len(image_dataset))]\n",
    "\n",
    "# Create the stratified shuffle split object\n",
    "split = StratifiedShuffleSplit(n_splits=1, test_size=0.3)\n",
    "\n",
    "# Split the indices of the images into train and validation-test sets\n",
    "for train_index, test_valid_index in split.split(range(len(image_dataset)), labels):\n",
    "    train_dataset = torch.utils.data.Subset(image_dataset, train_index)\n",
    "    test_valid_dataset = torch.utils.data.Subset(image_dataset, test_valid_index)\n",
    "\n",
    "# Create a second stratified shuffle split object for the train set\n",
    "split = StratifiedShuffleSplit(n_splits=1, test_size=0.4)\n",
    "\n",
    "# Split the indices of the train set into train and validation sets\n",
    "for val_index, test_index in split.split(range(len(test_valid_dataset)), [test_valid_dataset[i][1] for i in range(len(test_valid_dataset))]):\n",
    "    test_dataset = torch.utils.data.Subset(test_valid_dataset, test_index)\n",
    "    val_dataset = torch.utils.data.Subset(test_valid_dataset, val_index)\n"
   ]
  },
  {
   "cell_type": "code",
   "execution_count": null,
   "id": "f7bf0c7b",
   "metadata": {},
   "outputs": [],
   "source": []
  },
  {
   "cell_type": "code",
   "execution_count": 8,
   "id": "8cb3aa86",
   "metadata": {},
   "outputs": [
    {
     "name": "stdout",
     "output_type": "stream",
     "text": [
      "Dataset ImageFolder\n",
      "    Number of datapoints: 1422\n",
      "    Root location: images\n",
      "    StandardTransform\n",
      "Transform: Compose(\n",
      "               Resize(size=64, interpolation=bilinear, max_size=None, antialias=None)\n",
      "               CenterCrop(size=(64, 64))\n",
      "               ToTensor()\n",
      "               Normalize(mean=[0.485, 0.456, 0.406], std=[0.229, 0.224, 0.225])\n",
      "           )\n"
     ]
    }
   ],
   "source": [
    "# загрузка данных соответствующего размера\n",
    "train_dataset.dataset.transform = train_transform\n",
    "print(train_dataset.dataset)\n",
    "\n",
    "train_dataloader = torch.utils.data.DataLoader(train_dataset, batch_size=32, shuffle=True)\n",
    "val_dataloader = torch.utils.data.DataLoader(val_dataset, batch_size=32, shuffle=False)\n",
    "test_dataloader = torch.utils.data.DataLoader(test_dataset, batch_size=32, shuffle=False)"
   ]
  },
  {
   "cell_type": "code",
   "execution_count": null,
   "id": "62ba6e8b",
   "metadata": {},
   "outputs": [],
   "source": []
  },
  {
   "cell_type": "code",
   "execution_count": 9,
   "id": "1b1a0a7a",
   "metadata": {
    "scrolled": true
   },
   "outputs": [
    {
     "name": "stdout",
     "output_type": "stream",
     "text": [
      "Train set size: 995, validation set size: 256, test set size: 171\n"
     ]
    }
   ],
   "source": [
    "print(\"Train set size: {:}, validation set size: {:}, test set size: {:}\".format(train_index.size, val_index.size, test_index.size))"
   ]
  },
  {
   "cell_type": "markdown",
   "id": "9df1cb6b",
   "metadata": {},
   "source": [
    "Проверим результат разбиения по классам"
   ]
  },
  {
   "cell_type": "code",
   "execution_count": 10,
   "id": "f2960b7d",
   "metadata": {},
   "outputs": [
    {
     "name": "stdout",
     "output_type": "stream",
     "text": [
      "{'Train set': defaultdict(<class 'int'>, {4: 153, 7: 97, 5: 82, 1: 255, 3: 142, 2: 168, 0: 46, 6: 52}), 'Validation set': defaultdict(<class 'int'>, {0: 11, 4: 39, 1: 66, 3: 37, 6: 14, 2: 43, 5: 21, 7: 25}), 'Test set': defaultdict(<class 'int'>, {7: 17, 3: 24, 4: 26, 0: 8, 1: 44, 2: 29, 5: 14, 6: 9})}\n"
     ]
    }
   ],
   "source": [
    "def count_classes(dataloader):\n",
    "    labels_count = defaultdict(int)\n",
    "    for i, data in enumerate(dataloader, 0):\n",
    "        inputs, labels = data\n",
    "        for label in labels:\n",
    "            labels_count[label.item()] += 1\n",
    "    return(labels_count)\n",
    "\n",
    "data = {'Train set': count_classes(train_dataloader),\n",
    "        'Validation set': count_classes(val_dataloader),\n",
    "        'Test set': count_classes(test_dataloader)}\n",
    "print(data)"
   ]
  },
  {
   "cell_type": "code",
   "execution_count": 11,
   "id": "09982beb",
   "metadata": {},
   "outputs": [
    {
     "name": "stdout",
     "output_type": "stream",
     "text": [
      "Train set\n",
      "[4, 7, 5, 1, 3, 2, 0, 6]\n",
      "[153, 97, 82, 255, 142, 168, 46, 52]\n",
      "Validation set\n",
      "[0, 4, 1, 3, 6, 2, 5, 7]\n",
      "[11, 39, 66, 37, 14, 43, 21, 25]\n",
      "Test set\n",
      "[7, 3, 4, 0, 1, 2, 5, 6]\n",
      "[17, 24, 26, 8, 44, 29, 14, 9]\n"
     ]
    }
   ],
   "source": [
    "for i, group in enumerate(data.keys()):\n",
    "    print(group)\n",
    "    keys = list(data[group].keys())\n",
    "    print(keys)\n",
    "    print(list(data[group].values()))"
   ]
  },
  {
   "cell_type": "code",
   "execution_count": 12,
   "id": "088be397",
   "metadata": {},
   "outputs": [
    {
     "data": {
      "image/png": "[encoded data removed]",
      "text/plain": [
       "<Figure size 640x480 with 1 Axes>"
      ]
     },
     "metadata": {},
     "output_type": "display_data"
    }
   ],
   "source": [
    "colors = ['#fc8d59', '#ffffbf', '#91cf60']\n",
    "\n",
    "for i, group in enumerate(data.keys()):\n",
    "    keys = list(data[group].keys())\n",
    "    values = list(data[group].values())\n",
    "    plt.bar(keys, values, edgecolor='black', color=colors[i], label=group)\n",
    "\n",
    "plt.xlabel('Classes of images')\n",
    "plt.ylabel('Count')\n",
    "plt.title('Splitting to sets')\n",
    "plt.legend()\n",
    "plt.show()"
   ]
  },
  {
   "cell_type": "markdown",
   "id": "f24101c2",
   "metadata": {},
   "source": [
    "Определяем модель для классификации изображений: resnet с 18 слоями, задаем на полносвязном уровне количество наших классов "
   ]
  },
  {
   "cell_type": "code",
   "execution_count": 13,
   "id": "aff2c253",
   "metadata": {},
   "outputs": [
    {
     "name": "stderr",
     "output_type": "stream",
     "text": [
      "C:\\Users\\elena\\AppData\\Local\\Programs\\Python\\Python310\\lib\\site-packages\\torchvision\\models\\_utils.py:223: UserWarning: Arguments other than a weight enum or `None` for 'weights' are deprecated since 0.13 and may be removed in the future. The current behavior is equivalent to passing `weights=ResNet18_Weights.IMAGENET1K_V1`. You can also use `weights=ResNet18_Weights.DEFAULT` to get the most up-to-date weights.\n",
      "  warnings.warn(msg)\n"
     ]
    }
   ],
   "source": [
    "model = torchvision.models.resnet18(weights=True)\n",
    "#model = torchvision.models.resnet50(weights=True)\n",
    "\n",
    "model.fc = nn.Linear(512, len(image_dataset.classes))\n",
    "# model.fc.register_forward_hook(lambda m, inp, out: F.dropout(out, p=0.2, training=m.training))\n",
    "#model.fc.register_forward_hook(lambda m, inp, out: nn.Softmax(out))\n",
    "#model.fc = nn.Sequential(\n",
    " #   nn.Linear(512, len(image_dataset.classes)),\n",
    "  #  nn.Softmax())\n",
    "#model.fc.register_forward_hook(lambda m, inp, out: F.dropout(out, p=0.2, training=m.training))\n"
   ]
  },
  {
   "cell_type": "code",
   "execution_count": 14,
   "id": "2ebc2440",
   "metadata": {},
   "outputs": [],
   "source": [
    "# from torchvision.models.feature_extraction import get_graph_node_names\n",
    "# from torchvision.models import resnet50\n",
    "\n",
    "# train_nodes, eval_nodes = get_graph_node_names(resnet50())\n",
    "# print(train_nodes)\n",
    "# print(eval_nodes)"
   ]
  },
  {
   "cell_type": "markdown",
   "id": "27f78fbc",
   "metadata": {},
   "source": [
    "Выбираю функцию ошибки CrossEntropyLoss, поскольку у нас задача классификации нескольких классов. Стохастический градиентный спуск показал самый лучший результат в этой задаче\n"
   ]
  },
  {
   "cell_type": "code",
   "execution_count": 15,
   "id": "b010086f",
   "metadata": {},
   "outputs": [],
   "source": [
    "criterion = nn.CrossEntropyLoss()\n",
    "optimizer = optim.SGD(model.parameters(), lr=0.001, momentum=0.9)\n",
    "# optimizer = optim.Adam(model.parameters())\n",
    "# optimizer = optim.RMSprop(model.parameters()) # this optimizer functioned really bad"
   ]
  },
  {
   "cell_type": "code",
   "execution_count": 16,
   "id": "2828a9a5",
   "metadata": {},
   "outputs": [],
   "source": [
    "train_losses = []\n",
    "val_losses = []\n",
    "train_accuracies = []\n",
    "val_accuracies = []"
   ]
  },
  {
   "cell_type": "markdown",
   "id": "f5410f89",
   "metadata": {},
   "source": [
    "Задаем функцию для проверки валидационного и тестого сета, чтобы не дублировать код"
   ]
  },
  {
   "cell_type": "code",
   "execution_count": 17,
   "id": "fd475811",
   "metadata": {},
   "outputs": [],
   "source": [
    "def validate(curr_model, dataloader, criterion):\n",
    "    with torch.no_grad():\n",
    "        running_loss = 0.0\n",
    "        correct = 0\n",
    "        total = 0\n",
    "        for i, data in enumerate(dataloader, 0):\n",
    "            inputs, labels = data\n",
    "            outputs = curr_model(inputs)\n",
    "            loss = criterion(outputs, labels)\n",
    "            running_loss += loss.item()\n",
    "            _, predicted = torch.max(outputs.data, 1)\n",
    "            total += labels.size(0)\n",
    "            correct += (predicted == labels).sum().item()\n",
    "        val_loss = running_loss / len(dataloader)\n",
    "        val_accuracy = 100 * correct / total\n",
    "    return val_loss, val_accuracy"
   ]
  },
  {
   "cell_type": "code",
   "execution_count": null,
   "id": "02184cd9",
   "metadata": {},
   "outputs": [],
   "source": []
  },
  {
   "cell_type": "code",
   "execution_count": 18,
   "id": "39315025",
   "metadata": {},
   "outputs": [
    {
     "name": "stdout",
     "output_type": "stream",
     "text": [
      "Epoch 1/15 - Train Loss: 1.8771 - Train Accuracy: 31.66% - Val Loss: 1.6533 - Val Accuracy: 43.75%\n",
      "Epoch 2/15 - Train Loss: 0.9927 - Train Accuracy: 69.05% - Val Loss: 1.5212 - Val Accuracy: 49.22%\n",
      "Epoch 3/15 - Train Loss: 0.6271 - Train Accuracy: 83.42% - Val Loss: 1.4359 - Val Accuracy: 51.17%\n",
      "Epoch 4/15 - Train Loss: 0.4430 - Train Accuracy: 89.45% - Val Loss: 1.3742 - Val Accuracy: 56.64%\n",
      "Epoch 5/15 - Train Loss: 0.2695 - Train Accuracy: 94.97% - Val Loss: 1.3529 - Val Accuracy: 57.03%\n",
      "Epoch 6/15 - Train Loss: 0.2160 - Train Accuracy: 97.39% - Val Loss: 1.4233 - Val Accuracy: 55.47%\n",
      "Epoch 7/15 - Train Loss: 0.1924 - Train Accuracy: 97.69% - Val Loss: 1.4580 - Val Accuracy: 53.52%\n",
      "Epoch 8/15 - Train Loss: 0.2300 - Train Accuracy: 96.18% - Val Loss: 1.5327 - Val Accuracy: 57.03%\n",
      "Epoch 9/15 - Train Loss: 0.1460 - Train Accuracy: 97.79% - Val Loss: 1.5440 - Val Accuracy: 54.69%\n",
      "Epoch 10/15 - Train Loss: 0.1281 - Train Accuracy: 97.89% - Val Loss: 1.5207 - Val Accuracy: 54.69%\n",
      "Epoch 11/15 - Train Loss: 0.0880 - Train Accuracy: 99.10% - Val Loss: 1.5878 - Val Accuracy: 54.30%\n",
      "Epoch 12/15 - Train Loss: 0.1297 - Train Accuracy: 98.39% - Val Loss: 1.6011 - Val Accuracy: 56.64%\n",
      "Epoch 13/15 - Train Loss: 0.2520 - Train Accuracy: 93.97% - Val Loss: 1.6276 - Val Accuracy: 55.08%\n",
      "Epoch 14/15 - Train Loss: 0.2251 - Train Accuracy: 93.67% - Val Loss: 1.7095 - Val Accuracy: 50.78%\n",
      "Epoch 15/15 - Train Loss: 0.2084 - Train Accuracy: 97.19% - Val Loss: 1.6828 - Val Accuracy: 52.73%\n"
     ]
    }
   ],
   "source": [
    "num_epochs = 15\n",
    "best_accuracy = 0\n",
    "best_loss = float('inf')\n",
    "best_epoch = 0\n",
    "\n",
    "for epoch in range(num_epochs):\n",
    "    running_loss = 0.0\n",
    "    correct = 0\n",
    "    total = 0\n",
    "    for i, data in enumerate(train_dataloader, 0):\n",
    "        inputs, labels = data\n",
    "        # Zero the parameter gradients\n",
    "        optimizer.zero_grad()\n",
    "\n",
    "        # Forward pass\n",
    "        outputs = model(inputs)\n",
    "        loss = criterion(outputs, labels)\n",
    "\n",
    "        # Backward pass and optimization\n",
    "        loss.backward()\n",
    "        optimizer.step()\n",
    "\n",
    "        # Record the loss and accuracy\n",
    "        running_loss += loss.item()\n",
    "        _, predicted = torch.max(outputs.data, 1)\n",
    "        total += labels.size(0)\n",
    "        correct += (predicted == labels).sum().item()\n",
    "    \n",
    "    # Calculate the average loss and accuracy for the epoch\n",
    "    train_loss = running_loss / len(train_dataloader)\n",
    "    train_accuracy = 100 * correct / total\n",
    "    train_losses.append(train_loss)\n",
    "    train_accuracies.append(train_accuracy)\n",
    "\n",
    "    # Validate the model\n",
    "    val_loss, val_accuracy = validate(model, val_dataloader, criterion)\n",
    "    val_losses.append(val_loss)\n",
    "    val_accuracies.append(val_accuracy)\n",
    "\n",
    "    print(\"Epoch {}/{} - Train Loss: {:.4f} - Train Accuracy: {:.2f}% - Val Loss: {:.4f} - Val Accuracy: {:.2f}%\".format(\n",
    "        epoch + 1, num_epochs, train_loss, train_accuracy, val_loss, val_accuracy))\n",
    "    if val_accuracy > best_accuracy or (val_accuracy == best_accuracy and val_loss < best_loss):\n",
    "        best_accuracy = val_accuracy\n",
    "        best_loss = val_loss\n",
    "        best_epoch = epoch\n",
    "        torch.save(model.state_dict(), 'best_model.pt')"
   ]
  },
  {
   "cell_type": "code",
   "execution_count": 19,
   "id": "3b8672f7",
   "metadata": {},
   "outputs": [
    {
     "data": {
      "image/png": "[encoded data removed]",
      "text/plain": [
       "<Figure size 640x480 with 1 Axes>"
      ]
     },
     "metadata": {},
     "output_type": "display_data"
    },
    {
     "data": {
      "image/png": "[encoded data removed]",
      "text/plain": [
       "<Figure size 640x480 with 1 Axes>"
      ]
     },
     "metadata": {},
     "output_type": "display_data"
    }
   ],
   "source": [
    "epochs = range(1, num_epochs + 1)\n",
    "plt.subplot(2, 1, 1)\n",
    "plt.plot(epochs, train_losses, 'b', label='Train Loss')\n",
    "plt.plot(epochs, val_losses, 'r', label='Validation Loss')\n",
    "plt.title('Train and Validation Loss')\n",
    "plt.xlabel('Epochs')\n",
    "plt.ylabel('Loss')\n",
    "plt.xticks(range(1, num_epochs+1))\n",
    "plt.legend()\n",
    "plt.axvline(x = best_epoch+1, linestyle = '-')\n",
    "plt.show()\n",
    "\n",
    "plt.subplot(2, 1, 2)\n",
    "plt.plot(epochs, train_accuracies, 'b', label='Train Accuracy')\n",
    "plt.plot(epochs, val_accuracies, 'r', label='Validation Accuracy')\n",
    "plt.title('Train and Validation Accuracy')\n",
    "plt.xticks(range(1, num_epochs+1))\n",
    "plt.xlabel('Epochs')\n",
    "plt.ylabel('Accuracy')\n",
    "plt.legend()\n",
    "plt.axvline(x = best_epoch+1, linestyle = '-')\n",
    "plt.show()\n",
    "\n",
    "\n",
    "#plt.plt(train_losses, val_losses)"
   ]
  },
  {
   "cell_type": "code",
   "execution_count": 20,
   "id": "888103a4",
   "metadata": {},
   "outputs": [
    {
     "name": "stdout",
     "output_type": "stream",
     "text": [
      "5\n",
      "Test Loss: 1.5243, Test Accuracy: 53.22% in the epoch 5\n"
     ]
    }
   ],
   "source": [
    "# best_model = models.resnet.ResNet(...)\n",
    "model.load_state_dict(torch.load('best_model.pt'))\n",
    "# print(model)\n",
    "test_loss, test_accuracy = validate(model, test_dataloader, criterion)\n",
    "print(best_epoch+1)\n",
    "print(\"Test Loss: {:.4f}, Test Accuracy: {:.2f}% in the epoch {:}\".format(test_loss, test_accuracy, best_epoch+1))"
   ]
  },
  {
   "cell_type": "code",
   "execution_count": 21,
   "id": "da7f4e37",
   "metadata": {},
   "outputs": [],
   "source": [
    "# print(model)\n",
    "# type(best_model)\n",
    "# type(model)\n",
    "# print(best_model.__class_)"
   ]
  },
  {
   "cell_type": "markdown",
   "id": "bd414988",
   "metadata": {},
   "source": [
    "Почему использовали F1 score взвешенный"
   ]
  },
  {
   "cell_type": "code",
   "execution_count": 22,
   "id": "41c5ba8a",
   "metadata": {},
   "outputs": [
    {
     "name": "stdout",
     "output_type": "stream",
     "text": [
      "Weighted Test Loss: 1.5243 - Test Accuracy: 53.22% - Test F1-Score: 0.56\n",
      "Macro Test Loss: 1.5243 - Test Accuracy: 53.22% - Test F1-Score: 0.53\n"
     ]
    }
   ],
   "source": [
    "# Initialize the confusion matrix\n",
    "\n",
    "confusion_matrix = torch.zeros(len(image_dataset.classes), len(image_dataset.classes), dtype=torch.int64)\n",
    "\n",
    "# Initialize the lists to store the true labels and predicted labels for the test set\n",
    "true_labels = []\n",
    "pred_labels = []\n",
    "\n",
    "# Evaluation mode\n",
    "model.eval()\n",
    "\n",
    "# Set the gradient computation to be off\n",
    "with torch.no_grad():\n",
    "    # Iterate over the test data\n",
    "    for inputs, labels in test_dataloader:\n",
    "        inputs, labels = inputs.to(device), labels.to(device)\n",
    "        outputs = model(inputs)\n",
    "        _, preds = torch.max(outputs, dim=1)\n",
    "        \n",
    "        # Append the true labels and predicted labels to the lists\n",
    "        true_labels.extend(labels.tolist())\n",
    "        pred_labels.extend(preds.tolist())\n",
    "        \n",
    "        # Increment the count in the corresponding cells of the confusion matrix\n",
    "        for t, p in zip(labels, preds):\n",
    "            confusion_matrix[t, p] += 1\n",
    "\n",
    "# Compute the precision, recall and f1-score\n",
    "precision, recall, f1_score, _ = precision_recall_fscore_support(true_labels, pred_labels, average='weighted')\n",
    "precision_macro, recall_macro, f1_score_macro, _ = precision_recall_fscore_support(true_labels, pred_labels, average='macro')\n",
    "\n",
    "# Print the test loss, test accuracy and f1-score\n",
    "print(\"Weighted Test Loss: {:.4f} - Test Accuracy: {:.2f}% - Test F1-Score: {:.2f}\".format(test_loss, test_accuracy, f1_score))\n",
    "print(\"Macro Test Loss: {:.4f} - Test Accuracy: {:.2f}% - Test F1-Score: {:.2f}\".format(test_loss, test_accuracy, f1_score_macro))"
   ]
  },
  {
   "cell_type": "code",
   "execution_count": 23,
   "id": "ceec531a",
   "metadata": {},
   "outputs": [
    {
     "name": "stdout",
     "output_type": "stream",
     "text": [
      "tensor([[ 3,  2,  0,  1,  0,  1,  0,  1],\n",
      "        [ 1, 33,  4,  3,  1,  0,  0,  2],\n",
      "        [ 0,  7, 13,  2,  4,  1,  1,  1],\n",
      "        [ 0,  3,  6,  9,  3,  0,  1,  2],\n",
      "        [ 1,  1,  3,  2, 18,  1,  0,  0],\n",
      "        [ 0,  1,  0,  0,  1, 11,  0,  1],\n",
      "        [ 0,  2,  0,  2,  0,  0,  3,  2],\n",
      "        [ 1,  5,  1,  1,  0,  2,  0,  7]])\n",
      "0.5575438603314898\n"
     ]
    }
   ],
   "source": [
    "print(confusion_matrix)\n",
    "print(f1_score)\n"
   ]
  },
  {
   "cell_type": "code",
   "execution_count": 24,
   "id": "7f33b2e1",
   "metadata": {},
   "outputs": [
    {
     "name": "stdout",
     "output_type": "stream",
     "text": [
      "0.5581735975741824\n",
      "0.5672514619883041\n"
     ]
    }
   ],
   "source": [
    "print(precision)\n",
    "print(recall)"
   ]
  },
  {
   "cell_type": "code",
   "execution_count": 25,
   "id": "2eab49cd",
   "metadata": {},
   "outputs": [
    {
     "name": "stdout",
     "output_type": "stream",
     "text": [
      "[1.8771049492061138, 0.9927357919514179, 0.6270557474344969, 0.44301111809909344, 0.26945483731105924, 0.21604778710752726, 0.1923534816596657, 0.23001737613230944, 0.14599378465209156, 0.12809927109628916, 0.08796077611623332, 0.12972393061500043, 0.25199153111316264, 0.22509247064590454, 0.20839921245351434]\n",
      "[31.65829145728643, 69.04522613065326, 83.41708542713567, 89.44723618090453, 94.9748743718593, 97.38693467336684, 97.68844221105527, 96.18090452261306, 97.78894472361809, 97.8894472361809, 99.09547738693468, 98.39195979899498, 93.96984924623115, 93.66834170854271, 97.1859296482412]\n",
      "[1.653298795223236, 1.5211814641952515, 1.435947135090828, 1.3741685450077057, 1.3529218137264252, 1.4232636839151382, 1.458046406507492, 1.5326827615499496, 1.5440241396427155, 1.5207260847091675, 1.5878389924764633, 1.6010703444480896, 1.6276099681854248, 1.7095051258802414, 1.6827642172574997]\n",
      "[43.75, 49.21875, 51.171875, 56.640625, 57.03125, 55.46875, 53.515625, 57.03125, 54.6875, 54.6875, 54.296875, 56.640625, 55.078125, 50.78125, 52.734375]\n"
     ]
    }
   ],
   "source": [
    "print(train_losses)\n",
    "print(train_accuracies)\n",
    "print(val_losses)\n",
    "print(val_accuracies)"
   ]
  },
  {
   "cell_type": "code",
   "execution_count": null,
   "id": "4445283e",
   "metadata": {},
   "outputs": [],
   "source": []
  }
 ],
 "metadata": {
  "kernelspec": {
   "display_name": "Python 3 (ipykernel)",
   "language": "python",
   "name": "python3"
  },
  "language_info": {
   "codemirror_mode": {
    "name": "ipython",
    "version": 3
   },
   "file_extension": ".py",
   "mimetype": "text/x-python",
   "name": "python",
   "nbconvert_exporter": "python",
   "pygments_lexer": "ipython3",
   "version": "3.10.9"
  }
 },
 "nbformat": 4,
 "nbformat_minor": 5
}
