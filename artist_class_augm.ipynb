{
 "cells": [
  {
   "cell_type": "markdown",
   "id": "c74d955e",
   "metadata": {},
   "source": [
    "### Классификация изображений художников разного стиля с использованием `PyTorch`"
   ]
  },
  {
   "cell_type": "markdown",
   "id": "33bc0305",
   "metadata": {},
   "source": [
    "Импорт библиотек:"
   ]
  },
  {
   "cell_type": "code",
   "execution_count": 1,
   "id": "177de143",
   "metadata": {},
   "outputs": [],
   "source": [
    "import torch\n",
    "import torchvision\n",
    "import torchvision.transforms as transforms\n",
    "import torch.nn as nn\n",
    "import torch.optim as optim\n",
    "#import os\n",
    "import torch.nn.functional as F\n",
    "import matplotlib.pyplot as plt\n",
    "from collections import defaultdict\n",
    "from sklearn.metrics import precision_recall_fscore_support\n",
    "\n",
    "device = torch.device(\"cuda\" if torch.cuda.is_available() else \"cpu\")"
   ]
  },
  {
   "cell_type": "markdown",
   "id": "2b41b5f2",
   "metadata": {},
   "source": [
    "Определяем трансформацию изображений: отдельно для тренировочного набора с аугментацией данных и отдельно для тестового и валидационного."
   ]
  },
  {
   "cell_type": "code",
   "execution_count": 2,
   "id": "decefff5",
   "metadata": {},
   "outputs": [],
   "source": [
    "# define default transormation\n",
    "\n",
    "val_transform = transforms.Compose([\n",
    "    transforms.Resize(64),\n",
    "    transforms.CenterCrop(64),\n",
    "    transforms.ToTensor(),\n",
    "    transforms.Normalize(mean=[0.485, 0.456, 0.406], std=[0.229, 0.224, 0.225])\n",
    "])\n",
    "\n",
    "# randop crop\n",
    "train_transform = transforms.Compose([\n",
    "    transforms.RandomHorizontalFlip(),\n",
    "    transforms.RandomVerticalFlip(),\n",
    "    transforms.ColorJitter(brightness=0.4, contrast=0.4, saturation=0.4),\n",
    "    transforms.RandomGrayscale(p=0.2),\n",
    "    transforms.RandomRotation(30),\n",
    "    #transforms.GaussianNoise(0.1),\n",
    "\n",
    "    transforms.Resize(64),\n",
    "    transforms.CenterCrop(64),\n",
    "    transforms.ToTensor(),\n",
    "    transforms.Normalize(mean=[0.485, 0.456, 0.406], std=[0.229, 0.224, 0.225])\n",
    "    #transforms.Normalize()\n",
    "    #transforms.Normalize(mean, std)\n",
    "\n",
    "])"
   ]
  },
  {
   "cell_type": "markdown",
   "id": "d36800c3",
   "metadata": {},
   "source": [
    "Загрузка изображений, которые хранятся в директории `images` "
   ]
  },
  {
   "cell_type": "code",
   "execution_count": 3,
   "id": "c049dad3",
   "metadata": {},
   "outputs": [],
   "source": [
    "image_dataset = torchvision.datasets.ImageFolder('images', transform=val_transform)"
   ]
  },
  {
   "cell_type": "markdown",
   "id": "fc13bbe5",
   "metadata": {},
   "source": [
    "Разбиваем изображения на трейновый, валидационный и тестовый набор (70%, 20%, 10%)"
   ]
  },
  {
   "cell_type": "code",
   "execution_count": 4,
   "id": "2af615ec",
   "metadata": {},
   "outputs": [],
   "source": [
    "train_size = int(0.7 * len(image_dataset))\n",
    "val_size = int(0.2 * len(image_dataset))\n",
    "test_size = len(image_dataset) - train_size - val_size\n",
    "train_dataset, val_dataset, test_dataset = torch.utils.data.random_split(image_dataset, [train_size, val_size, test_size])\n",
    "# realize data augmentation for train set\n",
    "train_dataset.dataset.transform = train_transform\n"
   ]
  },
  {
   "cell_type": "code",
   "execution_count": 5,
   "id": "abbd044d",
   "metadata": {},
   "outputs": [],
   "source": [
    "# загрузка данных соответствующего размера\n",
    "train_dataloader = torch.utils.data.DataLoader(train_dataset, batch_size=32, shuffle=True)\n",
    "val_dataloader = torch.utils.data.DataLoader(val_dataset, batch_size=32, shuffle=False)\n",
    "test_dataloader = torch.utils.data.DataLoader(test_dataset, batch_size=32, shuffle=False)"
   ]
  },
  {
   "cell_type": "markdown",
   "id": "11f63047",
   "metadata": {},
   "source": []
  },
  {
   "cell_type": "code",
   "execution_count": 6,
   "id": "665add2a",
   "metadata": {
    "scrolled": true
   },
   "outputs": [
    {
     "name": "stdout",
     "output_type": "stream",
     "text": [
      "Train set size: 995, validation set size: 284, test set size: 143\n",
      "995\n",
      "284\n",
      "143\n",
      "Dataset ImageFolder\n",
      "    Number of datapoints: 1422\n",
      "    Root location: images\n",
      "    StandardTransform\n",
      "Transform: Compose(\n",
      "               Resize(size=64, interpolation=bilinear, max_size=None, antialias=None)\n",
      "               CenterCrop(size=(64, 64))\n",
      "               ToTensor()\n",
      "               Normalize(mean=[0.485, 0.456, 0.406], std=[0.229, 0.224, 0.225])\n",
      "           )\n"
     ]
    }
   ],
   "source": [
    "print(\"Train set size: {:}, validation set size: {:}, test set size: {:}\".format(train_size, val_size, test_size))\n",
    "\n",
    "print(train_size)\n",
    "print(val_size)\n",
    "print(test_size)\n",
    "print(train_dataset.dataset)"
   ]
  },
  {
   "cell_type": "markdown",
   "id": "e1414860",
   "metadata": {},
   "source": [
    "Проверим результат разбиения по классам"
   ]
  },
  {
   "cell_type": "code",
   "execution_count": 7,
   "id": "0aef14ed",
   "metadata": {},
   "outputs": [
    {
     "name": "stdout",
     "output_type": "stream",
     "text": [
      "{'Train set': defaultdict(<class 'int'>, {2: 162, 1: 269, 4: 150, 0: 40, 3: 154, 5: 76, 6: 47, 7: 97}), 'Validation set': defaultdict(<class 'int'>, {2: 51, 4: 50, 7: 29, 6: 19, 5: 22, 1: 61, 0: 17, 3: 35}), 'Test set': defaultdict(<class 'int'>, {0: 8, 1: 35, 7: 13, 2: 27, 5: 19, 6: 9, 3: 14, 4: 18})}\n"
     ]
    }
   ],
   "source": [
    "def count_classes(dataloader):\n",
    "    labels_count = defaultdict(int)\n",
    "    for i, data in enumerate(dataloader, 0):\n",
    "        inputs, labels = data\n",
    "        for label in labels:\n",
    "            labels_count[label.item()] += 1\n",
    "    return(labels_count)\n",
    "# data = count_classes(train_dataloader)\n",
    "# print(count_classes(train_dataloader))\n",
    "# labels_count = defaultdict(int)\n",
    "# for i, data in enumerate(test_dataloader, 0):\n",
    "#     inputs, labels = data\n",
    "#     for label in labels:\n",
    "#         labels_count[label.item()] += 1\n",
    "        \n",
    "        \n",
    "# val_count = defaultdict(int)\n",
    "\n",
    "# for i, data in enumerate(val_dataloader, 0):\n",
    "#     inputs, labels = data\n",
    "#     for label in labels:\n",
    "#         val_count[label.item()] += 1\n",
    "# print(val_count)\n",
    "#     return(labels_count)\n",
    "data = {'Train set': count_classes(train_dataloader),\n",
    "        'Validation set': count_classes(val_dataloader),\n",
    "        'Test set': count_classes(test_dataloader)}\n",
    "print(data)"
   ]
  },
  {
   "cell_type": "code",
   "execution_count": 8,
   "id": "7e8ec14e",
   "metadata": {},
   "outputs": [
    {
     "data": {
      "image/png": "[encoded data removed]",
      "text/plain": [
       "<Figure size 640x480 with 1 Axes>"
      ]
     },
     "metadata": {},
     "output_type": "display_data"
    }
   ],
   "source": [
    "colors = ['#fc8d59', '#ffffbf', '#91cf60']\n",
    "\n",
    "for i, group in enumerate(data.keys()):\n",
    "    keys = list(data[group].keys())\n",
    "    values = list(data[group].values())\n",
    "    plt.bar(keys, values, edgecolor='black', color=colors[i], label=group)\n",
    "\n",
    "plt.xlabel('Classes of images')\n",
    "plt.ylabel('Count')\n",
    "plt.title('Splitting to sets')\n",
    "plt.legend()\n",
    "plt.show()"
   ]
  },
  {
   "cell_type": "code",
   "execution_count": 9,
   "id": "aff2c253",
   "metadata": {},
   "outputs": [
    {
     "name": "stderr",
     "output_type": "stream",
     "text": [
      "C:\\Users\\elena\\AppData\\Local\\Programs\\Python\\Python310\\lib\\site-packages\\torchvision\\models\\_utils.py:223: UserWarning: Arguments other than a weight enum or `None` for 'weights' are deprecated since 0.13 and may be removed in the future. The current behavior is equivalent to passing `weights=ResNet18_Weights.IMAGENET1K_V1`. You can also use `weights=ResNet18_Weights.DEFAULT` to get the most up-to-date weights.\n",
      "  warnings.warn(msg)\n"
     ]
    }
   ],
   "source": [
    "model = torchvision.models.resnet18(weights=True)\n",
    "#model = torchvision.models.resnet50(weights=True)\n",
    "\n",
    "model.fc = nn.Linear(512, len(image_dataset.classes))\n",
    "#model.fc.register_forward_hook(lambda m, inp, out: nn.Softmax(out))\n",
    "#model.fc = nn.Sequential(\n",
    " #   nn.Linear(512, len(image_dataset.classes)),\n",
    "  #  nn.Softmax())\n",
    "#model.fc.register_forward_hook(lambda m, inp, out: F.dropout(out, p=0.2, training=m.training))\n"
   ]
  },
  {
   "cell_type": "code",
   "execution_count": 10,
   "id": "dea22b42",
   "metadata": {},
   "outputs": [],
   "source": [
    "# from torchvision.models.feature_extraction import get_graph_node_names\n",
    "# from torchvision.models import resnet50\n",
    "\n",
    "# train_nodes, eval_nodes = get_graph_node_names(resnet50())\n",
    "# print(train_nodes)\n",
    "# print(eval_nodes)"
   ]
  },
  {
   "cell_type": "markdown",
   "id": "27f78fbc",
   "metadata": {},
   "source": [
    "Выбираю функцию ошибки CrossEntropyLoss, поскольку у нас несколько классов\n"
   ]
  },
  {
   "cell_type": "code",
   "execution_count": 12,
   "id": "b010086f",
   "metadata": {},
   "outputs": [],
   "source": [
    "criterion = nn.CrossEntropyLoss()\n",
    "optimizer = optim.SGD(model.parameters(), lr=0.001, momentum=0.9)\n",
    "# optimizer = optim.Adam(model.parameters())\n",
    "# optimizer = optim.RMSprop(model.parameters()) # this optimizer functioned really bad"
   ]
  },
  {
   "cell_type": "code",
   "execution_count": 13,
   "id": "2828a9a5",
   "metadata": {},
   "outputs": [],
   "source": [
    "train_losses = []\n",
    "val_losses = []\n",
    "train_accuracies = []\n",
    "val_accuracies = []"
   ]
  },
  {
   "cell_type": "code",
   "execution_count": 14,
   "id": "02184cd9",
   "metadata": {},
   "outputs": [],
   "source": [
    "def validate(model, dataloader, criterion):\n",
    "    with torch.no_grad():\n",
    "        running_loss = 0.0\n",
    "        correct = 0\n",
    "        total = 0\n",
    "        for i, data in enumerate(dataloader, 0):\n",
    "            inputs, labels = data\n",
    "            outputs = model(inputs)\n",
    "            loss = criterion(outputs, labels)\n",
    "            running_loss += loss.item()\n",
    "            _, predicted = torch.max(outputs.data, 1)\n",
    "            total += labels.size(0)\n",
    "            correct += (predicted == labels).sum().item()\n",
    "        val_loss = running_loss / len(dataloader)\n",
    "        val_accuracy = 100 * correct / total\n",
    "    return val_loss, val_accuracy"
   ]
  },
  {
   "cell_type": "code",
   "execution_count": 15,
   "id": "39315025",
   "metadata": {},
   "outputs": [
    {
     "name": "stdout",
     "output_type": "stream",
     "text": [
      "Epoch 1/25 - Train Loss: 6.8693 - Train Accuracy: 20.90% - Val Loss: 4.9395 - Val Accuracy: 21.48%\n",
      "Epoch 2/25 - Train Loss: 2.9213 - Train Accuracy: 23.22% - Val Loss: 2.8642 - Val Accuracy: 19.37%\n",
      "Epoch 3/25 - Train Loss: 2.4598 - Train Accuracy: 23.32% - Val Loss: 4.1407 - Val Accuracy: 6.34%\n",
      "Epoch 4/25 - Train Loss: 2.3377 - Train Accuracy: 24.02% - Val Loss: 3.2127 - Val Accuracy: 10.92%\n",
      "Epoch 5/25 - Train Loss: 2.2196 - Train Accuracy: 23.72% - Val Loss: 2.6492 - Val Accuracy: 19.01%\n",
      "Epoch 6/25 - Train Loss: 2.2120 - Train Accuracy: 25.83% - Val Loss: 2.8735 - Val Accuracy: 19.37%\n",
      "Epoch 7/25 - Train Loss: 2.1360 - Train Accuracy: 26.83% - Val Loss: 2.5507 - Val Accuracy: 12.68%\n",
      "Epoch 8/25 - Train Loss: 2.0693 - Train Accuracy: 24.02% - Val Loss: 2.5199 - Val Accuracy: 20.42%\n",
      "Epoch 9/25 - Train Loss: 1.9999 - Train Accuracy: 26.73% - Val Loss: 2.2413 - Val Accuracy: 16.55%\n",
      "Epoch 10/25 - Train Loss: 1.9429 - Train Accuracy: 24.32% - Val Loss: 2.0922 - Val Accuracy: 22.89%\n",
      "Epoch 11/25 - Train Loss: 2.1770 - Train Accuracy: 26.63% - Val Loss: 2.2086 - Val Accuracy: 17.96%\n",
      "Epoch 12/25 - Train Loss: 2.0362 - Train Accuracy: 25.63% - Val Loss: 2.2655 - Val Accuracy: 19.37%\n",
      "Epoch 13/25 - Train Loss: 1.9394 - Train Accuracy: 27.54% - Val Loss: 2.2045 - Val Accuracy: 21.48%\n",
      "Epoch 14/25 - Train Loss: 1.9661 - Train Accuracy: 26.83% - Val Loss: 2.1141 - Val Accuracy: 19.72%\n",
      "Epoch 15/25 - Train Loss: 1.8950 - Train Accuracy: 27.24% - Val Loss: 2.0391 - Val Accuracy: 20.07%\n",
      "Epoch 16/25 - Train Loss: 2.0936 - Train Accuracy: 27.24% - Val Loss: 2.0985 - Val Accuracy: 20.42%\n",
      "Epoch 17/25 - Train Loss: 1.9481 - Train Accuracy: 27.24% - Val Loss: 2.0302 - Val Accuracy: 21.48%\n",
      "Epoch 18/25 - Train Loss: 1.9206 - Train Accuracy: 26.83% - Val Loss: 2.1104 - Val Accuracy: 13.73%\n",
      "Epoch 19/25 - Train Loss: 1.8914 - Train Accuracy: 26.23% - Val Loss: 2.0568 - Val Accuracy: 22.18%\n",
      "Epoch 20/25 - Train Loss: 1.8922 - Train Accuracy: 27.74% - Val Loss: 2.0404 - Val Accuracy: 20.77%\n",
      "Epoch 21/25 - Train Loss: 1.8955 - Train Accuracy: 28.24% - Val Loss: 2.0449 - Val Accuracy: 20.77%\n",
      "Epoch 22/25 - Train Loss: 1.8903 - Train Accuracy: 27.44% - Val Loss: 1.9847 - Val Accuracy: 21.83%\n",
      "Epoch 23/25 - Train Loss: 1.9191 - Train Accuracy: 28.14% - Val Loss: 2.0338 - Val Accuracy: 19.01%\n",
      "Epoch 24/25 - Train Loss: 2.0645 - Train Accuracy: 26.73% - Val Loss: 2.0577 - Val Accuracy: 19.37%\n",
      "Epoch 25/25 - Train Loss: 1.9214 - Train Accuracy: 25.43% - Val Loss: 2.0666 - Val Accuracy: 22.89%\n"
     ]
    }
   ],
   "source": [
    "num_epochs = 15\n",
    "best_accuracy = 0\n",
    "best_loss = float('inf')\n",
    "best_epoch = 0\n",
    "for epoch in range(num_epochs):\n",
    "    running_loss = 0.0\n",
    "    correct = 0\n",
    "    total = 0\n",
    "    for i, data in enumerate(train_dataloader, 0):\n",
    "        inputs, labels = data\n",
    "        # Zero the parameter gradients\n",
    "        optimizer.zero_grad()\n",
    "\n",
    "        # Forward pass\n",
    "        outputs = model(inputs)\n",
    "        loss = criterion(outputs, labels)\n",
    "\n",
    "        # Backward pass and optimization\n",
    "        loss.backward()\n",
    "        optimizer.step()\n",
    "\n",
    "        # Record the loss and accuracy\n",
    "        running_loss += loss.item()\n",
    "        _, predicted = torch.max(outputs.data, 1)\n",
    "        total += labels.size(0)\n",
    "        correct += (predicted == labels).sum().item()\n",
    "    \n",
    "    # Calculate the average loss and accuracy for the epoch\n",
    "    train_loss = running_loss / len(train_dataloader)\n",
    "    train_accuracy = 100 * correct / total\n",
    "    train_losses.append(train_loss)\n",
    "    train_accuracies.append(train_accuracy)\n",
    "\n",
    "    # Validate the model\n",
    "    val_loss, val_accuracy = validate(model, val_dataloader, criterion)\n",
    "    val_losses.append(val_loss)\n",
    "    val_accuracies.append(val_accuracy)\n",
    "\n",
    "    print(\"Epoch {}/{} - Train Loss: {:.4f} - Train Accuracy: {:.2f}% - Val Loss: {:.4f} - Val Accuracy: {:.2f}%\".format(\n",
    "        epoch + 1, num_epochs, train_loss, train_accuracy, val_loss, val_accuracy))\n",
    "    if val_accuracy > best_accuracy or (val_accuracy == best_accuracy and val_loss < best_loss):\n",
    "        best_accuracy = val_accuracy\n",
    "        best_loss = val_loss\n",
    "        best_epoch = epoch\n",
    "        torch.save(model.state_dict(), 'best_model.pt')"
   ]
  },
  {
   "cell_type": "code",
   "execution_count": 16,
   "id": "3b8672f7",
   "metadata": {},
   "outputs": [
    {
     "data": {
      "image/png": "[encoded data removed]",
      "text/plain": [
       "<Figure size 640x480 with 1 Axes>"
      ]
     },
     "metadata": {},
     "output_type": "display_data"
    }
   ],
   "source": [
    "epochs = range(1, num_epochs + 1)\n",
    "plt.plot(epochs, train_losses, 'b', label='Train Loss')\n",
    "plt.plot(epochs, val_losses, 'r', label='Validation Loss')\n",
    "plt.title('Train and Validation Loss')\n",
    "plt.xlabel('Epochs')\n",
    "plt.ylabel('Loss')\n",
    "plt.xticks(range(1, num_epochs+1))\n",
    "plt.legend()\n",
    "plt.show()\n",
    "\n",
    "\n",
    "#plt.plt(train_losses, val_losses)"
   ]
  },
  {
   "cell_type": "code",
   "execution_count": 17,
   "id": "e7faa4b6",
   "metadata": {},
   "outputs": [
    {
     "data": {
      "image/png": "[encoded data removed]",
      "text/plain": [
       "<Figure size 640x480 with 1 Axes>"
      ]
     },
     "metadata": {},
     "output_type": "display_data"
    }
   ],
   "source": [
    "plt.plot(epochs, train_accuracies, 'b', label='Train Accuracy')\n",
    "plt.plot(epochs, val_accuracies, 'r', label='Validation Accuracy')\n",
    "plt.title('Train and Validation Accuracy')\n",
    "plt.xticks(range(1, num_epochs+1))\n",
    "plt.xlabel('Epochs')\n",
    "plt.ylabel('Accuracy')\n",
    "plt.legend()\n",
    "plt.show()"
   ]
  },
  {
   "cell_type": "code",
   "execution_count": 18,
   "id": "888103a4",
   "metadata": {},
   "outputs": [
    {
     "name": "stdout",
     "output_type": "stream",
     "text": [
      "25\n",
      "Test Loss: 2.1112, Test Accuracy: 24.48% in the epoch 25\n"
     ]
    }
   ],
   "source": [
    "test_loss, test_accuracy = validate(model, test_dataloader, criterion)\n",
    "print(best_epoch+1)\n",
    "print(\"Test Loss: {:.4f}, Test Accuracy: {:.2f}% in the epoch {:}\".format(test_loss, test_accuracy, best_epoch+1))"
   ]
  },
  {
   "cell_type": "markdown",
   "id": "83f5fe33",
   "metadata": {},
   "source": [
    "Почему использовали F1 score взвешенный"
   ]
  },
  {
   "cell_type": "code",
   "execution_count": 19,
   "id": "41c5ba8a",
   "metadata": {},
   "outputs": [
    {
     "name": "stdout",
     "output_type": "stream",
     "text": [
      "Test Loss: 2.1112 - Test Accuracy: 24.48% - Test F1-Score: 0.17\n"
     ]
    },
    {
     "name": "stderr",
     "output_type": "stream",
     "text": [
      "C:\\Users\\elena\\AppData\\Local\\Programs\\Python\\Python310\\lib\\site-packages\\sklearn\\metrics\\_classification.py:1344: UndefinedMetricWarning: Precision and F-score are ill-defined and being set to 0.0 in labels with no predicted samples. Use `zero_division` parameter to control this behavior.\n",
      "  _warn_prf(average, modifier, msg_start, len(result))\n"
     ]
    }
   ],
   "source": [
    "# Initialize the confusion matrix\n",
    "\n",
    "confusion_matrix = torch.zeros(len(image_dataset.classes), len(image_dataset.classes), dtype=torch.int64)\n",
    "\n",
    "# Initialize the lists to store the true labels and predicted labels for the test set\n",
    "true_labels = []\n",
    "pred_labels = []\n",
    "\n",
    "# Evaluation mode\n",
    "model.eval()\n",
    "\n",
    "# Set the gradient computation to be off\n",
    "with torch.no_grad():\n",
    "    # Iterate over the test data\n",
    "    for inputs, labels in test_dataloader:\n",
    "        inputs, labels = inputs.to(device), labels.to(device)\n",
    "        outputs = model(inputs)\n",
    "        _, preds = torch.max(outputs, dim=1)\n",
    "        \n",
    "        # Append the true labels and predicted labels to the lists\n",
    "        true_labels.extend(labels.tolist())\n",
    "        pred_labels.extend(preds.tolist())\n",
    "        \n",
    "        # Increment the count in the corresponding cells of the confusion matrix\n",
    "        for t, p in zip(labels, preds):\n",
    "            confusion_matrix[t, p] += 1\n",
    "\n",
    "# Compute the precision, recall and f1-score\n",
    "precision, recall, f1_score, _ = precision_recall_fscore_support(true_labels, pred_labels, average='weighted')\n",
    "\n",
    "# Print the test loss, test accuracy and f1-score\n",
    "print(\"Test Loss: {:.4f} - Test Accuracy: {:.2f}% - Test F1-Score: {:.2f}\".format(test_loss, test_accuracy, f1_score))\n"
   ]
  },
  {
   "cell_type": "code",
   "execution_count": 20,
   "id": "e648b628",
   "metadata": {},
   "outputs": [
    {
     "data": {
      "text/plain": [
       "tensor([[ 0,  5,  3,  0,  0,  0,  0,  0],\n",
       "        [ 0, 19, 16,  0,  0,  0,  0,  0],\n",
       "        [ 0,  7, 20,  0,  0,  0,  0,  0],\n",
       "        [ 0,  5,  9,  0,  0,  0,  0,  0],\n",
       "        [ 0,  7, 11,  0,  0,  0,  0,  0],\n",
       "        [ 0,  4, 15,  0,  0,  0,  0,  0],\n",
       "        [ 0,  4,  5,  0,  0,  0,  0,  0],\n",
       "        [ 0, 13,  0,  0,  0,  0,  0,  0]])"
      ]
     },
     "execution_count": 20,
     "metadata": {},
     "output_type": "execute_result"
    }
   ],
   "source": [
    "confusion_matrix"
   ]
  },
  {
   "cell_type": "code",
   "execution_count": 21,
   "id": "7f33b2e1",
   "metadata": {},
   "outputs": [
    {
     "name": "stdout",
     "output_type": "stream",
     "text": [
      "0.12046201425157121\n",
      "0.2727272727272727\n"
     ]
    }
   ],
   "source": [
    "print(precision)\n",
    "print(recall)"
   ]
  },
  {
   "cell_type": "code",
   "execution_count": 22,
   "id": "2eab49cd",
   "metadata": {},
   "outputs": [
    {
     "name": "stdout",
     "output_type": "stream",
     "text": [
      "[6.869304668158293, 2.9213353134691715, 2.4597710371017456, 2.3376547917723656, 2.219617184251547, 2.2120026238262653, 2.1360025741159916, 2.069310702383518, 1.9998789429664612, 1.942925214767456, 2.176959350705147, 2.0361732318997383, 1.9393807835876942, 1.9661020301282406, 1.894998224452138, 2.09356102719903, 1.9480851218104362, 1.920597579330206, 1.8914498053491116, 1.8922471143305302, 1.8954975605010986, 1.8902587480843067, 1.9190753884613514, 2.064509302377701, 1.9213624559342861]\n",
      "[20.90452261306533, 23.21608040201005, 23.316582914572866, 24.020100502512562, 23.718592964824122, 25.829145728643216, 26.834170854271356, 24.020100502512562, 26.733668341708544, 24.321608040201006, 26.633165829145728, 25.628140703517587, 27.537688442211056, 26.834170854271356, 27.236180904522612, 27.236180904522612, 27.236180904522612, 26.834170854271356, 26.231155778894472, 27.738693467336685, 28.241206030150753, 27.43718592964824, 28.14070351758794, 26.733668341708544, 25.42713567839196]\n",
      "[4.9395407570732965, 2.8641769091288247, 4.140666378868951, 3.2126995987362332, 2.649166292614407, 2.8734840287102594, 2.5507041348351374, 2.5198937257130942, 2.2412622239854603, 2.0921628210279675, 2.208598905139499, 2.265504148271349, 2.2044604619344077, 2.1141054895189075, 2.039105680253771, 2.0984887811872692, 2.030245754453871, 2.1104023456573486, 2.0568352937698364, 2.040389577547709, 2.044905331399706, 1.9846673276689317, 2.0338465770085654, 2.057672487364875, 2.0666441917419434]\n",
      "[21.47887323943662, 19.366197183098592, 6.338028169014085, 10.915492957746478, 19.014084507042252, 19.366197183098592, 12.67605633802817, 20.422535211267604, 16.549295774647888, 22.887323943661972, 17.95774647887324, 19.366197183098592, 21.47887323943662, 19.718309859154928, 20.070422535211268, 20.422535211267604, 21.47887323943662, 13.732394366197184, 22.183098591549296, 20.774647887323944, 20.774647887323944, 21.830985915492956, 19.014084507042252, 19.366197183098592, 22.887323943661972]\n"
     ]
    }
   ],
   "source": [
    "print(train_losses)\n",
    "print(train_accuracies)\n",
    "print(val_losses)\n",
    "print(val_accuracies)"
   ]
  },
  {
   "cell_type": "code",
   "execution_count": null,
   "id": "4445283e",
   "metadata": {},
   "outputs": [],
   "source": []
  }
 ],
 "metadata": {
  "kernelspec": {
   "display_name": "Python 3 (ipykernel)",
   "language": "python",
   "name": "python3"
  },
  "language_info": {
   "codemirror_mode": {
    "name": "ipython",
    "version": 3
   },
   "file_extension": ".py",
   "mimetype": "text/x-python",
   "name": "python",
   "nbconvert_exporter": "python",
   "pygments_lexer": "ipython3",
   "version": "3.10.9"
  }
 },
 "nbformat": 4,
 "nbformat_minor": 5
}
