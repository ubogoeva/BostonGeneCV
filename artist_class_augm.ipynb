{
 "cells": [
  {
   "cell_type": "markdown",
   "id": "6416722c",
   "metadata": {},
   "source": [
    "### Классификация изображений художников разного стиля с использованием `PyTorch`"
   ]
  },
  {
   "cell_type": "markdown",
   "id": "100ebfe6",
   "metadata": {},
   "source": [
    "Импорт библиотек:"
   ]
  },
  {
   "cell_type": "code",
   "execution_count": 1,
   "id": "177de143",
   "metadata": {},
   "outputs": [],
   "source": [
    "import torch\n",
    "import torchvision\n",
    "import torchvision.transforms as transforms\n",
    "import torch.nn as nn\n",
    "import torch.optim as optim\n",
    "#import os\n",
    "import torch.nn.functional as F\n",
    "import matplotlib.pyplot as plt\n",
    "from collections import defaultdict\n",
    "from sklearn.metrics import precision_recall_fscore_support\n",
    "\n",
    "device = torch.device(\"cuda\" if torch.cuda.is_available() else \"cpu\")"
   ]
  },
  {
   "cell_type": "markdown",
   "id": "2b41b5f2",
   "metadata": {},
   "source": [
    "Определяем трансформацию изображений: отдельно для тренировочного набора с аугментацией данных и отдельно для тестового и валидационного."
   ]
  },
  {
   "cell_type": "code",
   "execution_count": 2,
   "id": "decefff5",
   "metadata": {},
   "outputs": [],
   "source": [
    "# define default transormation\n",
    "\n",
    "val_transform = transforms.Compose([\n",
    "    transforms.Resize(64),\n",
    "    transforms.CenterCrop(64),\n",
    "    transforms.ToTensor(),\n",
    "    transforms.Normalize(mean=[0.485, 0.456, 0.406], std=[0.229, 0.224, 0.225])\n",
    "])\n",
    "\n",
    "# randop crop\n",
    "train_transform = transforms.Compose([\n",
    "    transforms.RandomHorizontalFlip(),\n",
    "    transforms.RandomVerticalFlip(),\n",
    "#     transforms.ColorJitter(brightness=0.4, contrast=0.4, saturation=0.4),\n",
    "    transforms.RandomGrayscale(p=0.2),\n",
    "    transforms.RandomRotation(30),\n",
    "    #transforms.GaussianNoise(0.1),\n",
    "\n",
    "    transforms.Resize(64),\n",
    "    transforms.CenterCrop(64),\n",
    "    transforms.ToTensor(),\n",
    "    transforms.Normalize(mean=[0.485, 0.456, 0.406], std=[0.229, 0.224, 0.225])\n",
    "    #transforms.Normalize()\n",
    "    #transforms.Normalize(mean, std)\n",
    "\n",
    "])"
   ]
  },
  {
   "cell_type": "markdown",
   "id": "cc67be9d",
   "metadata": {},
   "source": [
    "Загрузка изображений, которые хранятся в директории `images` "
   ]
  },
  {
   "cell_type": "code",
   "execution_count": 3,
   "id": "c049dad3",
   "metadata": {},
   "outputs": [],
   "source": [
    "image_dataset = torchvision.datasets.ImageFolder('images', transform=val_transform)"
   ]
  },
  {
   "cell_type": "markdown",
   "id": "fc13bbe5",
   "metadata": {},
   "source": [
    "Разбиваем изображения на трейновый, валидационный и тестовый набор (70%, 20%, 10%) без стратификации. Оказалось, что это работает хуже чем со стратификацией с учетом размеров классов "
   ]
  },
  {
   "cell_type": "code",
   "execution_count": 4,
   "id": "2af615ec",
   "metadata": {},
   "outputs": [],
   "source": [
    "# train_size = int(0.7 * len(image_dataset))\n",
    "# val_size = int(0.2 * len(image_dataset))\n",
    "# test_size = len(image_dataset) - train_size - val_size\n",
    "# train_dataset, val_dataset, test_dataset = torch.utils.data.random_split(image_dataset, [train_size, val_size, test_size])\n",
    "# # realize data augmentation for train set\n",
    "# train_dataset.dataset.transform = train_transform\n"
   ]
  },
  {
   "cell_type": "code",
   "execution_count": 5,
   "id": "2d81aeea",
   "metadata": {},
   "outputs": [],
   "source": [
    "# print(\"Train set size: {:}, validation set size: {:}, test set size: {:}\".format(train_size, val_size, test_size))\n",
    "\n",
    "# print(train_size)\n",
    "# print(val_size)\n",
    "# print(test_size)\n",
    "# print(train_dataset.dataset)"
   ]
  },
  {
   "cell_type": "code",
   "execution_count": 6,
   "id": "1421fcc6",
   "metadata": {},
   "outputs": [],
   "source": [
    "# загрузка данных соответствующего размера\n",
    "# train_dataloader = torch.utils.data.DataLoader(train_dataset, batch_size=32, shuffle=True)\n",
    "# val_dataloader = torch.utils.data.DataLoader(val_dataset, batch_size=32, shuffle=False)\n",
    "# test_dataloader = torch.utils.data.DataLoader(test_dataset, batch_size=32, shuffle=False)"
   ]
  },
  {
   "cell_type": "markdown",
   "id": "4bbde83c",
   "metadata": {},
   "source": [
    "Разбиваем изображения на трейновый, валидационный и тестовый набор с учетом размеров классов."
   ]
  },
  {
   "cell_type": "code",
   "execution_count": 7,
   "id": "127888ca",
   "metadata": {},
   "outputs": [],
   "source": [
    "from sklearn.model_selection import StratifiedShuffleSplit\n",
    "\n",
    "# Get the labels for each image\n",
    "labels = [image_dataset[i][1] for i in range(len(image_dataset))]\n",
    "\n",
    "# Create the stratified shuffle split object\n",
    "split = StratifiedShuffleSplit(n_splits=1, test_size=0.3)\n",
    "\n",
    "# Split the indices of the images into train and validation-test sets\n",
    "for train_index, test_valid_index in split.split(range(len(image_dataset)), labels):\n",
    "    train_dataset = torch.utils.data.Subset(image_dataset, train_index)\n",
    "    test_valid_dataset = torch.utils.data.Subset(image_dataset, test_valid_index)\n",
    "\n",
    "# Create a second stratified shuffle split object for the train set\n",
    "split = StratifiedShuffleSplit(n_splits=1, test_size=0.4)\n",
    "\n",
    "# Split the indices of the train set into train and validation sets\n",
    "for val_index, test_index in split.split(range(len(test_valid_dataset)), [test_valid_dataset[i][1] for i in range(len(test_valid_dataset))]):\n",
    "    test_dataset = torch.utils.data.Subset(test_valid_dataset, test_index)\n",
    "    val_dataset = torch.utils.data.Subset(test_valid_dataset, val_index)\n"
   ]
  },
  {
   "cell_type": "code",
   "execution_count": null,
   "id": "435d3491",
   "metadata": {},
   "outputs": [],
   "source": []
  },
  {
   "cell_type": "code",
   "execution_count": 8,
   "id": "aaed4e1a",
   "metadata": {},
   "outputs": [
    {
     "name": "stdout",
     "output_type": "stream",
     "text": [
      "Dataset ImageFolder\n",
      "    Number of datapoints: 1422\n",
      "    Root location: images\n",
      "    StandardTransform\n",
      "Transform: Compose(\n",
      "               Resize(size=64, interpolation=bilinear, max_size=None, antialias=None)\n",
      "               CenterCrop(size=(64, 64))\n",
      "               ToTensor()\n",
      "               Normalize(mean=[0.485, 0.456, 0.406], std=[0.229, 0.224, 0.225])\n",
      "           )\n"
     ]
    }
   ],
   "source": [
    "# загрузка данных соответствующего размера\n",
    "train_dataset.dataset.transform = train_transform\n",
    "print(train_dataset.dataset)\n",
    "\n",
    "train_dataloader = torch.utils.data.DataLoader(train_dataset, batch_size=32, shuffle=True)\n",
    "val_dataloader = torch.utils.data.DataLoader(val_dataset, batch_size=32, shuffle=False)\n",
    "test_dataloader = torch.utils.data.DataLoader(test_dataset, batch_size=32, shuffle=False)"
   ]
  },
  {
   "cell_type": "code",
   "execution_count": null,
   "id": "97f91962",
   "metadata": {},
   "outputs": [],
   "source": []
  },
  {
   "cell_type": "code",
   "execution_count": 9,
   "id": "a9578988",
   "metadata": {
    "scrolled": true
   },
   "outputs": [
    {
     "name": "stdout",
     "output_type": "stream",
     "text": [
      "Train set size: 995, validation set size: 256, test set size: 171\n"
     ]
    }
   ],
   "source": [
    "print(\"Train set size: {:}, validation set size: {:}, test set size: {:}\".format(train_index.size, val_index.size, test_index.size))"
   ]
  },
  {
   "cell_type": "markdown",
   "id": "d60e1a51",
   "metadata": {},
   "source": [
    "Проверим результат разбиения по классам"
   ]
  },
  {
   "cell_type": "code",
   "execution_count": 10,
   "id": "309f7965",
   "metadata": {},
   "outputs": [
    {
     "name": "stdout",
     "output_type": "stream",
     "text": [
      "{'Train set': defaultdict(<class 'int'>, {7: 97, 2: 168, 6: 52, 3: 142, 4: 153, 5: 82, 1: 255, 0: 46}), 'Validation set': defaultdict(<class 'int'>, {3: 37, 2: 43, 1: 66, 6: 14, 7: 25, 4: 39, 0: 11, 5: 21}), 'Test set': defaultdict(<class 'int'>, {3: 24, 2: 29, 0: 8, 7: 17, 4: 26, 5: 14, 1: 44, 6: 9})}\n"
     ]
    }
   ],
   "source": [
    "def count_classes(dataloader):\n",
    "    labels_count = defaultdict(int)\n",
    "    for i, data in enumerate(dataloader, 0):\n",
    "        inputs, labels = data\n",
    "        for label in labels:\n",
    "            labels_count[label.item()] += 1\n",
    "    return(labels_count)\n",
    "\n",
    "data = {'Train set': count_classes(train_dataloader),\n",
    "        'Validation set': count_classes(val_dataloader),\n",
    "        'Test set': count_classes(test_dataloader)}\n",
    "print(data)"
   ]
  },
  {
   "cell_type": "code",
   "execution_count": 11,
   "id": "5d27bda5",
   "metadata": {},
   "outputs": [
    {
     "name": "stdout",
     "output_type": "stream",
     "text": [
      "Train set\n",
      "[7, 2, 6, 3, 4, 5, 1, 0]\n",
      "[97, 168, 52, 142, 153, 82, 255, 46]\n",
      "Validation set\n",
      "[3, 2, 1, 6, 7, 4, 0, 5]\n",
      "[37, 43, 66, 14, 25, 39, 11, 21]\n",
      "Test set\n",
      "[3, 2, 0, 7, 4, 5, 1, 6]\n",
      "[24, 29, 8, 17, 26, 14, 44, 9]\n"
     ]
    }
   ],
   "source": [
    "for i, group in enumerate(data.keys()):\n",
    "    print(group)\n",
    "    keys = list(data[group].keys())\n",
    "    print(keys)\n",
    "    print(list(data[group].values()))"
   ]
  },
  {
   "cell_type": "code",
   "execution_count": 12,
   "id": "c959a011",
   "metadata": {},
   "outputs": [
    {
     "data": {
      "image/png": "[encoded data removed]",
      "text/plain": [
       "<Figure size 640x480 with 1 Axes>"
      ]
     },
     "metadata": {},
     "output_type": "display_data"
    }
   ],
   "source": [
    "colors = ['#fc8d59', '#ffffbf', '#91cf60']\n",
    "\n",
    "for i, group in enumerate(data.keys()):\n",
    "    keys = list(data[group].keys())\n",
    "    values = list(data[group].values())\n",
    "    plt.bar(keys, values, edgecolor='black', color=colors[i], label=group)\n",
    "\n",
    "plt.xlabel('Classes of images')\n",
    "plt.ylabel('Count')\n",
    "plt.title('Splitting to sets')\n",
    "plt.legend()\n",
    "plt.show()"
   ]
  },
  {
   "cell_type": "markdown",
   "id": "75b51e4b",
   "metadata": {},
   "source": [
    "Определяем модель для классификации изображений: resnet с 18 слоями, задаем на полносвязном уровне количество наших классов "
   ]
  },
  {
   "cell_type": "code",
   "execution_count": 46,
   "id": "aff2c253",
   "metadata": {},
   "outputs": [
    {
     "name": "stderr",
     "output_type": "stream",
     "text": [
      "C:\\Users\\elena\\AppData\\Local\\Programs\\Python\\Python310\\lib\\site-packages\\torchvision\\models\\_utils.py:223: UserWarning: Arguments other than a weight enum or `None` for 'weights' are deprecated since 0.13 and may be removed in the future. The current behavior is equivalent to passing `weights=ResNet18_Weights.IMAGENET1K_V1`. You can also use `weights=ResNet18_Weights.DEFAULT` to get the most up-to-date weights.\n",
      "  warnings.warn(msg)\n"
     ]
    },
    {
     "data": {
      "text/plain": [
       "<torch.utils.hooks.RemovableHandle at 0x1ceac538d30>"
      ]
     },
     "execution_count": 46,
     "metadata": {},
     "output_type": "execute_result"
    }
   ],
   "source": [
    "model = torchvision.models.resnet18(weights=True)\n",
    "#model = torchvision.models.resnet50(weights=True)\n",
    "\n",
    "model.fc = nn.Linear(512, len(image_dataset.classes))\n",
    "model.fc.register_forward_hook(lambda m, inp, out: F.dropout(out, p=0.2, training=m.training))\n",
    "#model.fc.register_forward_hook(lambda m, inp, out: nn.Softmax(out))\n",
    "#model.fc = nn.Sequential(\n",
    " #   nn.Linear(512, len(image_dataset.classes)),\n",
    "  #  nn.Softmax())\n",
    "#model.fc.register_forward_hook(lambda m, inp, out: F.dropout(out, p=0.2, training=m.training))\n"
   ]
  },
  {
   "cell_type": "code",
   "execution_count": 14,
   "id": "30c65bac",
   "metadata": {},
   "outputs": [],
   "source": [
    "# from torchvision.models.feature_extraction import get_graph_node_names\n",
    "# from torchvision.models import resnet50\n",
    "\n",
    "# train_nodes, eval_nodes = get_graph_node_names(resnet50())\n",
    "# print(train_nodes)\n",
    "# print(eval_nodes)"
   ]
  },
  {
   "cell_type": "markdown",
   "id": "27f78fbc",
   "metadata": {},
   "source": [
    "Выбираю функцию ошибки CrossEntropyLoss, поскольку у нас задача классификации нескольких классов. Стохастический градиентный спуск показал самый лучший результат в этой задаче\n"
   ]
  },
  {
   "cell_type": "code",
   "execution_count": 47,
   "id": "b010086f",
   "metadata": {},
   "outputs": [],
   "source": [
    "criterion = nn.CrossEntropyLoss()\n",
    "optimizer = optim.SGD(model.parameters(), lr=0.001, momentum=0.9)\n",
    "# optimizer = optim.Adam(model.parameters())\n",
    "# optimizer = optim.RMSprop(model.parameters()) # this optimizer functioned really bad"
   ]
  },
  {
   "cell_type": "code",
   "execution_count": 48,
   "id": "2828a9a5",
   "metadata": {},
   "outputs": [],
   "source": [
    "train_losses = []\n",
    "val_losses = []\n",
    "train_accuracies = []\n",
    "val_accuracies = []"
   ]
  },
  {
   "cell_type": "markdown",
   "id": "526de7f5",
   "metadata": {},
   "source": [
    "Задаем функцию для проверки валидационного и тестого сета, чтобы не дублировать код"
   ]
  },
  {
   "cell_type": "code",
   "execution_count": 49,
   "id": "02184cd9",
   "metadata": {},
   "outputs": [],
   "source": [
    "def validate(curr_model, dataloader, criterion):\n",
    "    with torch.no_grad():\n",
    "        running_loss = 0.0\n",
    "        correct = 0\n",
    "        total = 0\n",
    "        for i, data in enumerate(dataloader, 0):\n",
    "            inputs, labels = data\n",
    "            outputs = curr_model(inputs)\n",
    "            loss = criterion(outputs, labels)\n",
    "            running_loss += loss.item()\n",
    "            _, predicted = torch.max(outputs.data, 1)\n",
    "            total += labels.size(0)\n",
    "            correct += (predicted == labels).sum().item()\n",
    "        val_loss = running_loss / len(dataloader)\n",
    "        val_accuracy = 100 * correct / total\n",
    "    return val_loss, val_accuracy"
   ]
  },
  {
   "cell_type": "code",
   "execution_count": 50,
   "id": "39315025",
   "metadata": {},
   "outputs": [
    {
     "name": "stdout",
     "output_type": "stream",
     "text": [
      "Epoch 1/1 - Train Loss: 2.1035 - Train Accuracy: 24.72% - Val Loss: 1.7657 - Val Accuracy: 34.77%\n"
     ]
    }
   ],
   "source": [
    "num_epochs = 1\n",
    "best_accuracy = 0\n",
    "best_loss = float('inf')\n",
    "best_epoch = 0\n",
    "for epoch in range(num_epochs):\n",
    "    running_loss = 0.0\n",
    "    correct = 0\n",
    "    total = 0\n",
    "    for i, data in enumerate(train_dataloader, 0):\n",
    "        inputs, labels = data\n",
    "        # Zero the parameter gradients\n",
    "        optimizer.zero_grad()\n",
    "\n",
    "        # Forward pass\n",
    "        outputs = model(inputs)\n",
    "        loss = criterion(outputs, labels)\n",
    "\n",
    "        # Backward pass and optimization\n",
    "        loss.backward()\n",
    "        optimizer.step()\n",
    "\n",
    "        # Record the loss and accuracy\n",
    "        running_loss += loss.item()\n",
    "        _, predicted = torch.max(outputs.data, 1)\n",
    "        total += labels.size(0)\n",
    "        correct += (predicted == labels).sum().item()\n",
    "    \n",
    "    # Calculate the average loss and accuracy for the epoch\n",
    "    train_loss = running_loss / len(train_dataloader)\n",
    "    train_accuracy = 100 * correct / total\n",
    "    train_losses.append(train_loss)\n",
    "    train_accuracies.append(train_accuracy)\n",
    "\n",
    "    # Validate the model\n",
    "    val_loss, val_accuracy = validate(model, val_dataloader, criterion)\n",
    "    val_losses.append(val_loss)\n",
    "    val_accuracies.append(val_accuracy)\n",
    "\n",
    "    print(\"Epoch {}/{} - Train Loss: {:.4f} - Train Accuracy: {:.2f}% - Val Loss: {:.4f} - Val Accuracy: {:.2f}%\".format(\n",
    "        epoch + 1, num_epochs, train_loss, train_accuracy, val_loss, val_accuracy))\n",
    "    if val_accuracy > best_accuracy or (val_accuracy == best_accuracy and val_loss < best_loss):\n",
    "        best_accuracy = val_accuracy\n",
    "        best_loss = val_loss\n",
    "        best_epoch = epoch\n",
    "        torch.save(model.state_dict(), 'best_model.pt')"
   ]
  },
  {
   "cell_type": "code",
   "execution_count": 51,
   "id": "3b8672f7",
   "metadata": {},
   "outputs": [
    {
     "data": {
      "image/png": "[encoded data removed]",
      "text/plain": [
       "<Figure size 640x480 with 1 Axes>"
      ]
     },
     "metadata": {},
     "output_type": "display_data"
    },
    {
     "data": {
      "image/png": "[encoded data removed]",
      "text/plain": [
       "<Figure size 640x480 with 1 Axes>"
      ]
     },
     "metadata": {},
     "output_type": "display_data"
    }
   ],
   "source": [
    "epochs = range(1, num_epochs + 1)\n",
    "plt.subplot(2, 1, 1)\n",
    "plt.plot(epochs, train_losses, 'b', label='Train Loss')\n",
    "plt.plot(epochs, val_losses, 'r', label='Validation Loss')\n",
    "plt.title('Train and Validation Loss')\n",
    "plt.xlabel('Epochs')\n",
    "plt.ylabel('Loss')\n",
    "plt.xticks(range(1, num_epochs+1))\n",
    "plt.legend()\n",
    "plt.axvline(x = best_epoch+1, linestyle = '-')\n",
    "plt.show()\n",
    "\n",
    "plt.subplot(2, 1, 2)\n",
    "plt.plot(epochs, train_accuracies, 'b', label='Train Accuracy')\n",
    "plt.plot(epochs, val_accuracies, 'r', label='Validation Accuracy')\n",
    "plt.title('Train and Validation Accuracy')\n",
    "plt.xticks(range(1, num_epochs+1))\n",
    "plt.xlabel('Epochs')\n",
    "plt.ylabel('Accuracy')\n",
    "plt.legend()\n",
    "plt.axvline(x = best_epoch+1, linestyle = '-')\n",
    "plt.show()\n",
    "\n",
    "\n",
    "#plt.plt(train_losses, val_losses)"
   ]
  },
  {
   "cell_type": "code",
   "execution_count": 20,
   "id": "e7faa4b6",
   "metadata": {},
   "outputs": [],
   "source": [
    "# plt.plot(epochs, train_accuracies, 'b', label='Train Accuracy')\n",
    "# plt.plot(epochs, val_accuracies, 'r', label='Validation Accuracy')\n",
    "# plt.title('Train and Validation Accuracy')\n",
    "# plt.xticks(range(1, num_epochs+1))\n",
    "# plt.xlabel('Epochs')\n",
    "# plt.ylabel('Accuracy')\n",
    "# plt.legend()\n",
    "# plt.show()"
   ]
  },
  {
   "cell_type": "code",
   "execution_count": 52,
   "id": "888103a4",
   "metadata": {},
   "outputs": [
    {
     "name": "stdout",
     "output_type": "stream",
     "text": [
      "1\n",
      "Test Loss: 1.7663, Test Accuracy: 35.67% in the epoch 1\n"
     ]
    }
   ],
   "source": [
    "# best_model = models.resnet.ResNet(...)\n",
    "model.load_state_dict(torch.load('best_model.pt'))\n",
    "# print(model)\n",
    "test_loss, test_accuracy = validate(model, test_dataloader, criterion)\n",
    "print(best_epoch+1)\n",
    "print(\"Test Loss: {:.4f}, Test Accuracy: {:.2f}% in the epoch {:}\".format(test_loss, test_accuracy, best_epoch+1))"
   ]
  },
  {
   "cell_type": "code",
   "execution_count": 22,
   "id": "cb3d94f4",
   "metadata": {},
   "outputs": [],
   "source": [
    "# print(model)\n",
    "# type(best_model)\n",
    "# type(model)\n",
    "# print(best_model.__class_)"
   ]
  },
  {
   "cell_type": "markdown",
   "id": "f7f412fc",
   "metadata": {},
   "source": [
    "Почему использовали F1 score взвешенный"
   ]
  },
  {
   "cell_type": "code",
   "execution_count": 53,
   "id": "41c5ba8a",
   "metadata": {},
   "outputs": [
    {
     "name": "stdout",
     "output_type": "stream",
     "text": [
      "Weighted Test Loss: 1.7663 - Test Accuracy: 35.67% - Test F1-Score: 0.37\n",
      "Macro Test Loss: 1.7663 - Test Accuracy: 35.67% - Test F1-Score: 0.31\n"
     ]
    }
   ],
   "source": [
    "# Initialize the confusion matrix\n",
    "\n",
    "confusion_matrix = torch.zeros(len(image_dataset.classes), len(image_dataset.classes), dtype=torch.int64)\n",
    "\n",
    "# Initialize the lists to store the true labels and predicted labels for the test set\n",
    "true_labels = []\n",
    "pred_labels = []\n",
    "\n",
    "# Evaluation mode\n",
    "model.eval()\n",
    "\n",
    "# Set the gradient computation to be off\n",
    "with torch.no_grad():\n",
    "    # Iterate over the test data\n",
    "    for inputs, labels in test_dataloader:\n",
    "        inputs, labels = inputs.to(device), labels.to(device)\n",
    "        outputs = model(inputs)\n",
    "        _, preds = torch.max(outputs, dim=1)\n",
    "        \n",
    "        # Append the true labels and predicted labels to the lists\n",
    "        true_labels.extend(labels.tolist())\n",
    "        pred_labels.extend(preds.tolist())\n",
    "        \n",
    "        # Increment the count in the corresponding cells of the confusion matrix\n",
    "        for t, p in zip(labels, preds):\n",
    "            confusion_matrix[t, p] += 1\n",
    "\n",
    "# Compute the precision, recall and f1-score\n",
    "precision, recall, f1_score, _ = precision_recall_fscore_support(true_labels, pred_labels, average='weighted')\n",
    "precision_macro, recall_macro, f1_score_macro, _ = precision_recall_fscore_support(true_labels, pred_labels, average='macro')\n",
    "\n",
    "# Print the test loss, test accuracy and f1-score\n",
    "print(\"Weighted Test Loss: {:.4f} - Test Accuracy: {:.2f}% - Test F1-Score: {:.2f}\".format(test_loss, test_accuracy, f1_score))\n",
    "print(\"Macro Test Loss: {:.4f} - Test Accuracy: {:.2f}% - Test F1-Score: {:.2f}\".format(test_loss, test_accuracy, f1_score_macro))"
   ]
  },
  {
   "cell_type": "code",
   "execution_count": 54,
   "id": "45c5ca54",
   "metadata": {},
   "outputs": [
    {
     "data": {
      "text/plain": [
       "tensor([[ 0,  3,  0,  0,  2,  0,  0,  3],\n",
       "        [ 0, 35,  4,  4,  0,  0,  0,  1],\n",
       "        [ 0,  8,  9,  2,  4,  1,  2,  3],\n",
       "        [ 2,  7,  3,  6,  3,  1,  1,  1],\n",
       "        [ 1,  7,  4,  4,  6,  1,  1,  2],\n",
       "        [ 0,  2,  3,  1,  2,  5,  0,  1],\n",
       "        [ 0,  5,  0,  0,  0,  2,  2,  0],\n",
       "        [ 0,  7,  2,  0,  1,  1,  0,  6]])"
      ]
     },
     "execution_count": 54,
     "metadata": {},
     "output_type": "execute_result"
    }
   ],
   "source": [
    "confusion_matrix"
   ]
  },
  {
   "cell_type": "code",
   "execution_count": 55,
   "id": "7f33b2e1",
   "metadata": {},
   "outputs": [
    {
     "name": "stdout",
     "output_type": "stream",
     "text": [
      "0.3728169712070641\n",
      "0.40350877192982454\n"
     ]
    }
   ],
   "source": [
    "print(precision)\n",
    "print(recall)"
   ]
  },
  {
   "cell_type": "code",
   "execution_count": 26,
   "id": "2eab49cd",
   "metadata": {},
   "outputs": [
    {
     "name": "stdout",
     "output_type": "stream",
     "text": [
      "[2.147220693528652, 1.677131962031126, 1.5340525805950165, 1.5664426162838936, 1.441852966323495, 1.294315166771412, 1.248754482716322, 1.1394465640187263, 1.161951331421733, 1.0902934055775404, 1.121062932536006, 1.0349506959319115, 1.0320556331425905, 1.0235896315425634, 0.9379386538639665, 0.9313449505716562, 0.8784885462373495, 0.8585879225283861, 0.8317494913935661, 0.752587073482573, 0.8488617409020662, 0.8173243245109916, 0.8033492686226964, 0.7828365107998252, 0.7586260056123137, 0.6681618979200721, 0.7670698277652264, 0.7179401386529207, 0.7249430613592267, 0.7541854232549667, 0.7150207376107574, 0.6826425716280937, 0.6136780236847699, 0.7268364680930972, 0.6766176586970687, 0.555357494391501, 0.5398009037598968, 0.5724689206108451, 0.6714917588979006, 0.5666353185661137, 0.6458759745582938, 0.5483591631054878, 0.5538505641743541, 0.6258427491411567, 0.540506518445909, 0.6061534313485026, 0.5643281731754541, 0.6447398830205202, 0.6153440796770155, 0.5852309353649616]\n",
      "[20.0, 38.5929648241206, 45.32663316582914, 47.1356783919598, 51.65829145728643, 54.77386934673367, 55.47738693467337, 58.79396984924623, 59.49748743718593, 62.814070351758794, 62.41206030150754, 64.62311557788945, 63.015075376884425, 64.62311557788945, 68.04020100502512, 66.93467336683418, 70.85427135678393, 71.4572864321608, 71.4572864321608, 72.06030150753769, 70.95477386934674, 71.35678391959799, 73.66834170854271, 75.678391959799, 73.26633165829146, 75.678391959799, 75.07537688442211, 74.9748743718593, 75.17587939698493, 72.96482412060301, 75.87939698492463, 76.28140703517587, 79.79899497487438, 74.2713567839196, 74.77386934673366, 79.79899497487438, 80.10050251256281, 79.09547738693468, 79.19597989949749, 80.7035175879397, 78.49246231155779, 79.69849246231156, 81.20603015075378, 78.79396984924622, 79.59798994974874, 78.49246231155779, 78.99497487437186, 80.7035175879397, 78.79396984924622, 79.59798994974874]\n",
      "[1.7910812348127365, 1.7853905707597733, 1.6978366523981094, 1.534526139497757, 1.6265977174043655, 1.549672931432724, 1.4706742614507675, 1.5209142714738846, 1.5169931948184967, 1.5552487969398499, 1.4643201977014542, 1.454954832792282, 1.4822164624929428, 1.6082067638635635, 1.453912764787674, 1.483999952673912, 1.4904448688030243, 1.4913246482610703, 1.6080970913171768, 1.5259395986795425, 1.6157347708940506, 1.6119463443756104, 1.6357119977474213, 1.59285369515419, 1.5728263556957245, 1.5877690613269806, 1.7001199275255203, 1.8372243791818619, 1.6329408809542656, 1.6924211829900742, 1.5594685673713684, 1.8949068784713745, 1.7227124124765396, 1.8439480066299438, 1.6970783919095993, 1.8904092907905579, 1.7074172794818878, 1.6691331267356873, 1.647931233048439, 1.6668769270181656, 1.8940126448869705, 1.8767589032649994, 1.8710909932851791, 1.8346094340085983, 1.8232524693012238, 1.8557801842689514, 1.833728313446045, 1.797484815120697, 1.9237548857927322, 1.7721950709819794]\n",
      "[37.109375, 39.84375, 46.484375, 45.3125, 43.75, 46.875, 51.5625, 47.265625, 51.171875, 51.171875, 55.46875, 53.515625, 48.828125, 46.875, 53.515625, 50.0, 49.609375, 53.125, 53.125, 52.734375, 48.046875, 50.78125, 51.953125, 50.390625, 53.90625, 51.171875, 51.953125, 51.5625, 51.953125, 52.734375, 51.171875, 50.78125, 51.953125, 54.6875, 52.34375, 52.34375, 55.078125, 53.90625, 56.25, 50.390625, 53.125, 51.171875, 47.65625, 52.34375, 53.125, 53.125, 54.6875, 53.90625, 53.515625, 50.390625]\n"
     ]
    }
   ],
   "source": [
    "print(train_losses)\n",
    "print(train_accuracies)\n",
    "print(val_losses)\n",
    "print(val_accuracies)"
   ]
  },
  {
   "cell_type": "code",
   "execution_count": null,
   "id": "4445283e",
   "metadata": {},
   "outputs": [],
   "source": []
  }
 ],
 "metadata": {
  "kernelspec": {
   "display_name": "Python 3 (ipykernel)",
   "language": "python",
   "name": "python3"
  },
  "language_info": {
   "codemirror_mode": {
    "name": "ipython",
    "version": 3
   },
   "file_extension": ".py",
   "mimetype": "text/x-python",
   "name": "python",
   "nbconvert_exporter": "python",
   "pygments_lexer": "ipython3",
   "version": "3.10.9"
  }
 },
 "nbformat": 4,
 "nbformat_minor": 5
}
